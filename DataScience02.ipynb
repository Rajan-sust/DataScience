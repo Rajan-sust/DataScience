{
  "nbformat": 4,
  "nbformat_minor": 0,
  "metadata": {
    "anaconda-cloud": {},
    "kernelspec": {
      "display_name": "Python 3",
      "language": "python",
      "name": "python3"
    },
    "language_info": {
      "codemirror_mode": {
        "name": "ipython",
        "version": 3
      },
      "file_extension": ".py",
      "mimetype": "text/x-python",
      "name": "python",
      "nbconvert_exporter": "python",
      "pygments_lexer": "ipython3",
      "version": "3.5.2"
    },
    "colab": {
      "name": "dslab2_a.ipynb",
      "provenance": [],
      "include_colab_link": true
    }
  },
  "cells": [
    {
      "cell_type": "markdown",
      "metadata": {
        "id": "view-in-github",
        "colab_type": "text"
      },
      "source": [
        "<a href=\"https://colab.research.google.com/github/Rajan-sust/ML/blob/master/DataScience02.ipynb\" target=\"_parent\"><img src=\"https://colab.research.google.com/assets/colab-badge.svg\" alt=\"Open In Colab\"/></a>"
      ]
    },
    {
      "cell_type": "markdown",
      "metadata": {
        "id": "HM7oKXBGMnWn",
        "colab_type": "text"
      },
      "source": [
        "# Cleaning and EDA of Goodreads"
      ]
    },
    {
      "cell_type": "markdown",
      "metadata": {
        "id": "aH7M8krWMnWq",
        "colab_type": "text"
      },
      "source": [
        "# Table of Contents \n",
        "<ol start=\"0\">\n",
        "<li> Learning Goals </li>\n",
        "<li> Loading and Cleaning with Pandas</li>\n",
        "<li> Asking Questions?  </li>\n",
        "<li> Parsing and Completing the Dataframe  </li>\n",
        "<li> EDA  </li>\n",
        "<li> Determining the Best Books  </li>\n",
        "<li>Trends in Popularity of Genres </li>\n",
        "</ol>"
      ]
    },
    {
      "cell_type": "markdown",
      "metadata": {
        "id": "XPuxJmrOMnWu",
        "colab_type": "text"
      },
      "source": [
        "## Learning Goals\n",
        "\n",
        "About 6000 odd \"best books\" were fetched and parsed from [Goodreads](https://www.goodreads.com). The \"bestness\" of these books came from a proprietary formula used by Goodreads and published as a list on their web site.\n",
        "We parsed the page for each book and saved data from all these pages in a tabular format as a CSV file. In this lab we'll clean and further parse the data.  We'll then do some exploratory data analysis to answer questions about these best books and popular genres.  \n",
        "By the end of this lab, you should be able to:\n",
        "- Load and systematically address missing values, ancoded as `NaN` values in our data set, for example, by removing observations associated with these values.\n",
        "- Parse columns in the dataframe to create new dataframe columns.\n",
        "- Create and interpret visualizations to explore the data set"
      ]
    },
    {
      "cell_type": "markdown",
      "metadata": {
        "id": "yo3hvSZsMnWw",
        "colab_type": "text"
      },
      "source": [
        "### Basic EDA workflow\n",
        "The basic workflow is as follows:\n",
        "\n",
        "1. **Build** a DataFrame from the data (ideally, put all data in this object)\n",
        "2. **Clean** the DataFrame. It should have the following properties:\n",
        "    - Each row describes a single object\n",
        "    - Each column describes a property of that object\n",
        "    - Columns are numeric whenever appropriate\n",
        "    - Columns contain atomic properties that cannot be further decomposed\n",
        "3. Explore **global properties**. Use histograms, scatter plots, and aggregation functions to summarize the data.\n",
        "4. Explore **group properties**. Use groupby and small multiples to compare subsets of the data.\n",
        "\n",
        "This process transforms your data into a format which is easier to work with, gives you a basic overview of the data's properties, and likely generates several questions for you to followup in subsequent analysis."
      ]
    },
    {
      "cell_type": "markdown",
      "metadata": {
        "id": "_1ZKUtjGMnWz",
        "colab_type": "text"
      },
      "source": [
        "## Part 1: Loading and Cleaning with Pandas \n",
        "Read in the `goodreads.csv` file, examine the data, and do any necessary data cleaning. \n",
        "\n",
        "Here is a description of the columns (in order) present in this csv file:\n",
        "\n",
        "```\n",
        "rating: the average rating on a 1-5 scale achieved by the book\n",
        "review_count: the number of Goodreads users who reviewed this book\n",
        "isbn: the ISBN code for the book\n",
        "booktype: an internal Goodreads identifier for the book\n",
        "author_url: the Goodreads (relative) URL for the author of the book\n",
        "year: the year the book was published\n",
        "genre_urls: a string with '|' separated relative URLS of Goodreads genre pages\n",
        "dir: a directory identifier internal to the scraping code\n",
        "rating_count: the number of ratings for this book (this is different from the number of reviews)\n",
        "name: the name of the book\n",
        "```\n",
        "\n",
        "Report all the issues you found with the data and how you resolved them.  "
      ]
    },
    {
      "cell_type": "code",
      "metadata": {
        "id": "7YgHqCMiMnW2",
        "colab_type": "code",
        "colab": {}
      },
      "source": [
        "%matplotlib inline\n",
        "import numpy as np\n",
        "import matplotlib.pyplot as plt\n",
        "import pandas as pd"
      ],
      "execution_count": 0,
      "outputs": []
    },
    {
      "cell_type": "markdown",
      "metadata": {
        "id": "cCGXqRgMMnW-",
        "colab_type": "text"
      },
      "source": [
        "### Cleaning: Reading in the data\n",
        "We read in and clean the data from `goodreads.csv`.  Try directly loading the data from file and see what the dataframe look like. What's the problem with naively loading the data as is? You might want to open the CSV file in Excel or your favorite text editor to see how this dataset is formatted."
      ]
    },
    {
      "cell_type": "code",
      "metadata": {
        "id": "M6lstv3gMnXA",
        "colab_type": "code",
        "colab": {
          "base_uri": "https://localhost:8080/",
          "height": 479
        },
        "outputId": "98037fe0-1a86-43bf-e52f-141272fce8f8"
      },
      "source": [
        "#Read the data into a dataframe\n",
        "path = 'https://raw.githubusercontent.com/Rajan-sust/ML/master/Dataset/goodreads.csv'\n",
        "data = pd.read_csv(path)\n",
        "\n",
        "#Examine the first couple of rows of the dataframe\n",
        "data.head()"
      ],
      "execution_count": 2,
      "outputs": [
        {
          "output_type": "execute_result",
          "data": {
            "text/html": [
              "<div>\n",
              "<style scoped>\n",
              "    .dataframe tbody tr th:only-of-type {\n",
              "        vertical-align: middle;\n",
              "    }\n",
              "\n",
              "    .dataframe tbody tr th {\n",
              "        vertical-align: top;\n",
              "    }\n",
              "\n",
              "    .dataframe thead th {\n",
              "        text-align: right;\n",
              "    }\n",
              "</style>\n",
              "<table border=\"1\" class=\"dataframe\">\n",
              "  <thead>\n",
              "    <tr style=\"text-align: right;\">\n",
              "      <th></th>\n",
              "      <th>4.40</th>\n",
              "      <th>136455</th>\n",
              "      <th>0439023483</th>\n",
              "      <th>good_reads:book</th>\n",
              "      <th>https://www.goodreads.com/author/show/153394.Suzanne_Collins</th>\n",
              "      <th>2008</th>\n",
              "      <th>/genres/young-adult|/genres/science-fiction|/genres/dystopia|/genres/fantasy|/genres/science-fiction|/genres/romance|/genres/adventure|/genres/book-club|/genres/young-adult|/genres/teen|/genres/apocalyptic|/genres/post-apocalyptic|/genres/action</th>\n",
              "      <th>dir01/2767052-the-hunger-games.html</th>\n",
              "      <th>2958974</th>\n",
              "      <th>The Hunger Games (The Hunger Games, #1)</th>\n",
              "    </tr>\n",
              "  </thead>\n",
              "  <tbody>\n",
              "    <tr>\n",
              "      <th>0</th>\n",
              "      <td>4.41</td>\n",
              "      <td>16648</td>\n",
              "      <td>0439358078</td>\n",
              "      <td>good_reads:book</td>\n",
              "      <td>https://www.goodreads.com/author/show/1077326....</td>\n",
              "      <td>2003.0</td>\n",
              "      <td>/genres/fantasy|/genres/young-adult|/genres/fi...</td>\n",
              "      <td>dir01/2.Harry_Potter_and_the_Order_of_the_Phoe...</td>\n",
              "      <td>1284478</td>\n",
              "      <td>Harry Potter and the Order of the Phoenix (Har...</td>\n",
              "    </tr>\n",
              "    <tr>\n",
              "      <th>1</th>\n",
              "      <td>3.56</td>\n",
              "      <td>85746</td>\n",
              "      <td>0316015849</td>\n",
              "      <td>good_reads:book</td>\n",
              "      <td>https://www.goodreads.com/author/show/941441.S...</td>\n",
              "      <td>2005.0</td>\n",
              "      <td>/genres/young-adult|/genres/fantasy|/genres/ro...</td>\n",
              "      <td>dir01/41865.Twilight.html</td>\n",
              "      <td>2579564</td>\n",
              "      <td>Twilight (Twilight, #1)</td>\n",
              "    </tr>\n",
              "    <tr>\n",
              "      <th>2</th>\n",
              "      <td>4.23</td>\n",
              "      <td>47906</td>\n",
              "      <td>0061120081</td>\n",
              "      <td>good_reads:book</td>\n",
              "      <td>https://www.goodreads.com/author/show/1825.Har...</td>\n",
              "      <td>1960.0</td>\n",
              "      <td>/genres/classics|/genres/fiction|/genres/histo...</td>\n",
              "      <td>dir01/2657.To_Kill_a_Mockingbird.html</td>\n",
              "      <td>2078123</td>\n",
              "      <td>To Kill a Mockingbird</td>\n",
              "    </tr>\n",
              "    <tr>\n",
              "      <th>3</th>\n",
              "      <td>4.23</td>\n",
              "      <td>34772</td>\n",
              "      <td>0679783261</td>\n",
              "      <td>good_reads:book</td>\n",
              "      <td>https://www.goodreads.com/author/show/1265.Jan...</td>\n",
              "      <td>1813.0</td>\n",
              "      <td>/genres/classics|/genres/fiction|/genres/roman...</td>\n",
              "      <td>dir01/1885.Pride_and_Prejudice.html</td>\n",
              "      <td>1388992</td>\n",
              "      <td>Pride and Prejudice</td>\n",
              "    </tr>\n",
              "    <tr>\n",
              "      <th>4</th>\n",
              "      <td>4.25</td>\n",
              "      <td>12363</td>\n",
              "      <td>0446675539</td>\n",
              "      <td>good_reads:book</td>\n",
              "      <td>https://www.goodreads.com/author/show/11081.Ma...</td>\n",
              "      <td>1936.0</td>\n",
              "      <td>/genres/classics|/genres/historical-fiction|/g...</td>\n",
              "      <td>dir01/18405.Gone_with_the_Wind.html</td>\n",
              "      <td>645470</td>\n",
              "      <td>Gone with the Wind</td>\n",
              "    </tr>\n",
              "  </tbody>\n",
              "</table>\n",
              "</div>"
            ],
            "text/plain": [
              "   4.40 136455  ...  2958974            The Hunger Games (The Hunger Games, #1)\n",
              "0  4.41  16648  ...  1284478  Harry Potter and the Order of the Phoenix (Har...\n",
              "1  3.56  85746  ...  2579564                            Twilight (Twilight, #1)\n",
              "2  4.23  47906  ...  2078123                              To Kill a Mockingbird\n",
              "3  4.23  34772  ...  1388992                                Pride and Prejudice\n",
              "4  4.25  12363  ...   645470                                 Gone with the Wind\n",
              "\n",
              "[5 rows x 10 columns]"
            ]
          },
          "metadata": {
            "tags": []
          },
          "execution_count": 2
        }
      ]
    },
    {
      "cell_type": "code",
      "metadata": {
        "id": "GlpYCxdbMnXF",
        "colab_type": "code",
        "colab": {
          "base_uri": "https://localhost:8080/",
          "height": 428
        },
        "outputId": "99cfd27f-356a-4670-d311-ec34da2cd757"
      },
      "source": [
        "data = pd.read_csv(path, header=None,\n",
        "               names=[\"rating\", 'review_count', 'isbn', 'booktype','author_url', 'year', 'genre_urls', 'dir','rating_count', 'name'],\n",
        ")\n",
        "#Examine the first couple of rows of the dataframe\n",
        "data.head()"
      ],
      "execution_count": 3,
      "outputs": [
        {
          "output_type": "execute_result",
          "data": {
            "text/html": [
              "<div>\n",
              "<style scoped>\n",
              "    .dataframe tbody tr th:only-of-type {\n",
              "        vertical-align: middle;\n",
              "    }\n",
              "\n",
              "    .dataframe tbody tr th {\n",
              "        vertical-align: top;\n",
              "    }\n",
              "\n",
              "    .dataframe thead th {\n",
              "        text-align: right;\n",
              "    }\n",
              "</style>\n",
              "<table border=\"1\" class=\"dataframe\">\n",
              "  <thead>\n",
              "    <tr style=\"text-align: right;\">\n",
              "      <th></th>\n",
              "      <th>rating</th>\n",
              "      <th>review_count</th>\n",
              "      <th>isbn</th>\n",
              "      <th>booktype</th>\n",
              "      <th>author_url</th>\n",
              "      <th>year</th>\n",
              "      <th>genre_urls</th>\n",
              "      <th>dir</th>\n",
              "      <th>rating_count</th>\n",
              "      <th>name</th>\n",
              "    </tr>\n",
              "  </thead>\n",
              "  <tbody>\n",
              "    <tr>\n",
              "      <th>0</th>\n",
              "      <td>4.40</td>\n",
              "      <td>136455</td>\n",
              "      <td>0439023483</td>\n",
              "      <td>good_reads:book</td>\n",
              "      <td>https://www.goodreads.com/author/show/153394.S...</td>\n",
              "      <td>2008.0</td>\n",
              "      <td>/genres/young-adult|/genres/science-fiction|/g...</td>\n",
              "      <td>dir01/2767052-the-hunger-games.html</td>\n",
              "      <td>2958974</td>\n",
              "      <td>The Hunger Games (The Hunger Games, #1)</td>\n",
              "    </tr>\n",
              "    <tr>\n",
              "      <th>1</th>\n",
              "      <td>4.41</td>\n",
              "      <td>16648</td>\n",
              "      <td>0439358078</td>\n",
              "      <td>good_reads:book</td>\n",
              "      <td>https://www.goodreads.com/author/show/1077326....</td>\n",
              "      <td>2003.0</td>\n",
              "      <td>/genres/fantasy|/genres/young-adult|/genres/fi...</td>\n",
              "      <td>dir01/2.Harry_Potter_and_the_Order_of_the_Phoe...</td>\n",
              "      <td>1284478</td>\n",
              "      <td>Harry Potter and the Order of the Phoenix (Har...</td>\n",
              "    </tr>\n",
              "    <tr>\n",
              "      <th>2</th>\n",
              "      <td>3.56</td>\n",
              "      <td>85746</td>\n",
              "      <td>0316015849</td>\n",
              "      <td>good_reads:book</td>\n",
              "      <td>https://www.goodreads.com/author/show/941441.S...</td>\n",
              "      <td>2005.0</td>\n",
              "      <td>/genres/young-adult|/genres/fantasy|/genres/ro...</td>\n",
              "      <td>dir01/41865.Twilight.html</td>\n",
              "      <td>2579564</td>\n",
              "      <td>Twilight (Twilight, #1)</td>\n",
              "    </tr>\n",
              "    <tr>\n",
              "      <th>3</th>\n",
              "      <td>4.23</td>\n",
              "      <td>47906</td>\n",
              "      <td>0061120081</td>\n",
              "      <td>good_reads:book</td>\n",
              "      <td>https://www.goodreads.com/author/show/1825.Har...</td>\n",
              "      <td>1960.0</td>\n",
              "      <td>/genres/classics|/genres/fiction|/genres/histo...</td>\n",
              "      <td>dir01/2657.To_Kill_a_Mockingbird.html</td>\n",
              "      <td>2078123</td>\n",
              "      <td>To Kill a Mockingbird</td>\n",
              "    </tr>\n",
              "    <tr>\n",
              "      <th>4</th>\n",
              "      <td>4.23</td>\n",
              "      <td>34772</td>\n",
              "      <td>0679783261</td>\n",
              "      <td>good_reads:book</td>\n",
              "      <td>https://www.goodreads.com/author/show/1265.Jan...</td>\n",
              "      <td>1813.0</td>\n",
              "      <td>/genres/classics|/genres/fiction|/genres/roman...</td>\n",
              "      <td>dir01/1885.Pride_and_Prejudice.html</td>\n",
              "      <td>1388992</td>\n",
              "      <td>Pride and Prejudice</td>\n",
              "    </tr>\n",
              "  </tbody>\n",
              "</table>\n",
              "</div>"
            ],
            "text/plain": [
              "   rating  ...                                               name\n",
              "0    4.40  ...            The Hunger Games (The Hunger Games, #1)\n",
              "1    4.41  ...  Harry Potter and the Order of the Phoenix (Har...\n",
              "2    3.56  ...                            Twilight (Twilight, #1)\n",
              "3    4.23  ...                              To Kill a Mockingbird\n",
              "4    4.23  ...                                Pride and Prejudice\n",
              "\n",
              "[5 rows x 10 columns]"
            ]
          },
          "metadata": {
            "tags": []
          },
          "execution_count": 3
        }
      ]
    },
    {
      "cell_type": "markdown",
      "metadata": {
        "id": "iyKknG8XMnXJ",
        "colab_type": "text"
      },
      "source": [
        "### Cleaning: Examing the dataframe - quick checks\n",
        "\n",
        "Examine the dataframe to get a overall sense of the content."
      ]
    },
    {
      "cell_type": "code",
      "metadata": {
        "id": "C3H3Y_HOMnXL",
        "colab_type": "code",
        "colab": {
          "base_uri": "https://localhost:8080/",
          "height": 204
        },
        "outputId": "5ae3c77b-c56e-4030-be7b-917967d0eb4f"
      },
      "source": [
        "#Start by check the column data types\n",
        "data.dtypes"
      ],
      "execution_count": 4,
      "outputs": [
        {
          "output_type": "execute_result",
          "data": {
            "text/plain": [
              "rating          float64\n",
              "review_count     object\n",
              "isbn             object\n",
              "booktype         object\n",
              "author_url       object\n",
              "year            float64\n",
              "genre_urls       object\n",
              "dir              object\n",
              "rating_count     object\n",
              "name             object\n",
              "dtype: object"
            ]
          },
          "metadata": {
            "tags": []
          },
          "execution_count": 4
        }
      ]
    },
    {
      "cell_type": "markdown",
      "metadata": {
        "id": "Ooc0fr0OMnXO",
        "colab_type": "text"
      },
      "source": [
        "There are a couple more quick sanity checks to perform on the dataframe. "
      ]
    },
    {
      "cell_type": "code",
      "metadata": {
        "id": "1EpHjSORMnXP",
        "colab_type": "code",
        "colab": {
          "base_uri": "https://localhost:8080/",
          "height": 85
        },
        "outputId": "a32578a7-564f-4691-8526-310505f619e3"
      },
      "source": [
        "#Come up with a few other important properties of the dataframe to check\n",
        "print(data.shape)\n",
        "data.columns"
      ],
      "execution_count": 5,
      "outputs": [
        {
          "output_type": "stream",
          "text": [
            "(6000, 10)\n"
          ],
          "name": "stdout"
        },
        {
          "output_type": "execute_result",
          "data": {
            "text/plain": [
              "Index(['rating', 'review_count', 'isbn', 'booktype', 'author_url', 'year',\n",
              "       'genre_urls', 'dir', 'rating_count', 'name'],\n",
              "      dtype='object')"
            ]
          },
          "metadata": {
            "tags": []
          },
          "execution_count": 5
        }
      ]
    },
    {
      "cell_type": "markdown",
      "metadata": {
        "id": "aMebBvlsMnXS",
        "colab_type": "text"
      },
      "source": [
        "Was the data read correctly and values represented as we expected?"
      ]
    },
    {
      "cell_type": "markdown",
      "metadata": {
        "id": "M-XmZkONMnXT",
        "colab_type": "text"
      },
      "source": [
        "**Notice that `review_count` and `rating_counts` are objects instead of ints, and the `year` is a float!**"
      ]
    },
    {
      "cell_type": "markdown",
      "metadata": {
        "id": "duq7j2sXMnXU",
        "colab_type": "text"
      },
      "source": [
        "### Cleaning: Examining the dataframe - a deeper look"
      ]
    },
    {
      "cell_type": "markdown",
      "metadata": {
        "id": "Dcs6qO1uMnXV",
        "colab_type": "text"
      },
      "source": [
        "Beyond performing checking some quick general properties of the data frame and looking at the first $n$ rows, we can dig a bit deeper into the values being stored. If you haven't already, check to see if there are any missing values in the data frame.\n",
        "\n",
        "Let's see for a column which seemed OK to us."
      ]
    },
    {
      "cell_type": "code",
      "metadata": {
        "id": "7Od4yvK9MnXW",
        "colab_type": "code",
        "colab": {
          "base_uri": "https://localhost:8080/",
          "height": 34
        },
        "outputId": "4e66e88e-e88a-4098-aaf3-cfe656121753"
      },
      "source": [
        "#Get a sense of how many missing values there are in the dataframe.\n",
        "np.sum([data.rating.isnull()])\n",
        "# do this for other columns as well"
      ],
      "execution_count": 6,
      "outputs": [
        {
          "output_type": "execute_result",
          "data": {
            "text/plain": [
              "2"
            ]
          },
          "metadata": {
            "tags": []
          },
          "execution_count": 6
        }
      ]
    },
    {
      "cell_type": "code",
      "metadata": {
        "id": "c2Rkvof7MnXY",
        "colab_type": "code",
        "colab": {
          "base_uri": "https://localhost:8080/",
          "height": 111
        },
        "outputId": "d2119ba0-22c6-4b2f-aa8a-7efc8ee4cc01"
      },
      "source": [
        "#Try to locate where the missing values occur\n",
        "data[data.rating.isnull()]"
      ],
      "execution_count": 7,
      "outputs": [
        {
          "output_type": "execute_result",
          "data": {
            "text/html": [
              "<div>\n",
              "<style scoped>\n",
              "    .dataframe tbody tr th:only-of-type {\n",
              "        vertical-align: middle;\n",
              "    }\n",
              "\n",
              "    .dataframe tbody tr th {\n",
              "        vertical-align: top;\n",
              "    }\n",
              "\n",
              "    .dataframe thead th {\n",
              "        text-align: right;\n",
              "    }\n",
              "</style>\n",
              "<table border=\"1\" class=\"dataframe\">\n",
              "  <thead>\n",
              "    <tr style=\"text-align: right;\">\n",
              "      <th></th>\n",
              "      <th>rating</th>\n",
              "      <th>review_count</th>\n",
              "      <th>isbn</th>\n",
              "      <th>booktype</th>\n",
              "      <th>author_url</th>\n",
              "      <th>year</th>\n",
              "      <th>genre_urls</th>\n",
              "      <th>dir</th>\n",
              "      <th>rating_count</th>\n",
              "      <th>name</th>\n",
              "    </tr>\n",
              "  </thead>\n",
              "  <tbody>\n",
              "    <tr>\n",
              "      <th>3643</th>\n",
              "      <td>NaN</td>\n",
              "      <td>None</td>\n",
              "      <td>None</td>\n",
              "      <td>None</td>\n",
              "      <td>None</td>\n",
              "      <td>NaN</td>\n",
              "      <td>NaN</td>\n",
              "      <td>dir37/9658936-harry-potter.html</td>\n",
              "      <td>None</td>\n",
              "      <td>None</td>\n",
              "    </tr>\n",
              "    <tr>\n",
              "      <th>5282</th>\n",
              "      <td>NaN</td>\n",
              "      <td>None</td>\n",
              "      <td>None</td>\n",
              "      <td>None</td>\n",
              "      <td>None</td>\n",
              "      <td>NaN</td>\n",
              "      <td>NaN</td>\n",
              "      <td>dir53/113138.The_Winner.html</td>\n",
              "      <td>None</td>\n",
              "      <td>None</td>\n",
              "    </tr>\n",
              "  </tbody>\n",
              "</table>\n",
              "</div>"
            ],
            "text/plain": [
              "      rating review_count  ... rating_count  name\n",
              "3643     NaN         None  ...         None  None\n",
              "5282     NaN         None  ...         None  None\n",
              "\n",
              "[2 rows x 10 columns]"
            ]
          },
          "metadata": {
            "tags": []
          },
          "execution_count": 7
        }
      ]
    },
    {
      "cell_type": "markdown",
      "metadata": {
        "id": "gmhApAxOMnXa",
        "colab_type": "text"
      },
      "source": [
        "We'll now check if any of the other suspicious columns have missing values.  Let's look at `year` and `review_count` first.\n",
        "One thing you can do is to try and convert to the type you expect the column to be. If something goes wrong, it likely means your data are bad.\n",
        "Lets test for missing data:"
      ]
    },
    {
      "cell_type": "code",
      "metadata": {
        "id": "Ps3NdgJEMnXb",
        "colab_type": "code",
        "colab": {
          "base_uri": "https://localhost:8080/",
          "height": 558
        },
        "outputId": "0909352c-b362-41ad-ffd1-a2422a5edf7f"
      },
      "source": [
        "data[data.year.isnull()]"
      ],
      "execution_count": 8,
      "outputs": [
        {
          "output_type": "execute_result",
          "data": {
            "text/html": [
              "<div>\n",
              "<style scoped>\n",
              "    .dataframe tbody tr th:only-of-type {\n",
              "        vertical-align: middle;\n",
              "    }\n",
              "\n",
              "    .dataframe tbody tr th {\n",
              "        vertical-align: top;\n",
              "    }\n",
              "\n",
              "    .dataframe thead th {\n",
              "        text-align: right;\n",
              "    }\n",
              "</style>\n",
              "<table border=\"1\" class=\"dataframe\">\n",
              "  <thead>\n",
              "    <tr style=\"text-align: right;\">\n",
              "      <th></th>\n",
              "      <th>rating</th>\n",
              "      <th>review_count</th>\n",
              "      <th>isbn</th>\n",
              "      <th>booktype</th>\n",
              "      <th>author_url</th>\n",
              "      <th>year</th>\n",
              "      <th>genre_urls</th>\n",
              "      <th>dir</th>\n",
              "      <th>rating_count</th>\n",
              "      <th>name</th>\n",
              "    </tr>\n",
              "  </thead>\n",
              "  <tbody>\n",
              "    <tr>\n",
              "      <th>2442</th>\n",
              "      <td>4.23</td>\n",
              "      <td>526</td>\n",
              "      <td>NaN</td>\n",
              "      <td>good_reads:book</td>\n",
              "      <td>https://www.goodreads.com/author/show/623606.A...</td>\n",
              "      <td>NaN</td>\n",
              "      <td>/genres/religion|/genres/islam|/genres/non-fic...</td>\n",
              "      <td>dir25/1301625.La_Tahzan.html</td>\n",
              "      <td>4134</td>\n",
              "      <td>La Tahzan</td>\n",
              "    </tr>\n",
              "    <tr>\n",
              "      <th>2869</th>\n",
              "      <td>4.61</td>\n",
              "      <td>2</td>\n",
              "      <td>NaN</td>\n",
              "      <td>good_reads:book</td>\n",
              "      <td>https://www.goodreads.com/author/show/8182217....</td>\n",
              "      <td>NaN</td>\n",
              "      <td>NaN</td>\n",
              "      <td>dir29/22031070-my-death-experiences---a-preach...</td>\n",
              "      <td>23</td>\n",
              "      <td>My Death Experiences - A Preacherâs 18 Apoca...</td>\n",
              "    </tr>\n",
              "    <tr>\n",
              "      <th>3643</th>\n",
              "      <td>NaN</td>\n",
              "      <td>None</td>\n",
              "      <td>None</td>\n",
              "      <td>None</td>\n",
              "      <td>None</td>\n",
              "      <td>NaN</td>\n",
              "      <td>NaN</td>\n",
              "      <td>dir37/9658936-harry-potter.html</td>\n",
              "      <td>None</td>\n",
              "      <td>None</td>\n",
              "    </tr>\n",
              "    <tr>\n",
              "      <th>5282</th>\n",
              "      <td>NaN</td>\n",
              "      <td>None</td>\n",
              "      <td>None</td>\n",
              "      <td>None</td>\n",
              "      <td>None</td>\n",
              "      <td>NaN</td>\n",
              "      <td>NaN</td>\n",
              "      <td>dir53/113138.The_Winner.html</td>\n",
              "      <td>None</td>\n",
              "      <td>None</td>\n",
              "    </tr>\n",
              "    <tr>\n",
              "      <th>5572</th>\n",
              "      <td>3.71</td>\n",
              "      <td>35</td>\n",
              "      <td>8423336603</td>\n",
              "      <td>good_reads:book</td>\n",
              "      <td>https://www.goodreads.com/author/show/285658.E...</td>\n",
              "      <td>NaN</td>\n",
              "      <td>/genres/fiction</td>\n",
              "      <td>dir56/890680._rase_una_vez_el_amor_pero_tuve_q...</td>\n",
              "      <td>403</td>\n",
              "      <td>Ãrase una vez el amor pero tuve que matarlo. ...</td>\n",
              "    </tr>\n",
              "    <tr>\n",
              "      <th>5658</th>\n",
              "      <td>4.32</td>\n",
              "      <td>44</td>\n",
              "      <td>NaN</td>\n",
              "      <td>good_reads:book</td>\n",
              "      <td>https://www.goodreads.com/author/show/25307.Ro...</td>\n",
              "      <td>NaN</td>\n",
              "      <td>/genres/fantasy|/genres/fantasy|/genres/epic-f...</td>\n",
              "      <td>dir57/5533041-assassin-s-apprentice-royal-assa...</td>\n",
              "      <td>3850</td>\n",
              "      <td>Assassin's Apprentice / Royal Assassin (Farsee...</td>\n",
              "    </tr>\n",
              "    <tr>\n",
              "      <th>5683</th>\n",
              "      <td>4.56</td>\n",
              "      <td>204</td>\n",
              "      <td>NaN</td>\n",
              "      <td>good_reads:book</td>\n",
              "      <td>https://www.goodreads.com/author/show/3097905....</td>\n",
              "      <td>NaN</td>\n",
              "      <td>/genres/fantasy|/genres/young-adult|/genres/ro...</td>\n",
              "      <td>dir57/12474623-tiger-s-dream.html</td>\n",
              "      <td>895</td>\n",
              "      <td>Tiger's Dream (The Tiger Saga, #5)</td>\n",
              "    </tr>\n",
              "  </tbody>\n",
              "</table>\n",
              "</div>"
            ],
            "text/plain": [
              "      rating  ...                                               name\n",
              "2442    4.23  ...                                          La Tahzan\n",
              "2869    4.61  ...  My Death Experiences - A Preacherâs 18 Apoca...\n",
              "3643     NaN  ...                                               None\n",
              "5282     NaN  ...                                               None\n",
              "5572    3.71  ...  Ãrase una vez el amor pero tuve que matarlo. ...\n",
              "5658    4.32  ...  Assassin's Apprentice / Royal Assassin (Farsee...\n",
              "5683    4.56  ...                 Tiger's Dream (The Tiger Saga, #5)\n",
              "\n",
              "[7 rows x 10 columns]"
            ]
          },
          "metadata": {
            "tags": []
          },
          "execution_count": 8
        }
      ]
    },
    {
      "cell_type": "markdown",
      "metadata": {
        "id": "IeMN58IRMnXe",
        "colab_type": "text"
      },
      "source": [
        "### Cleaning: Dealing with Missing Values\n",
        "How should we interpret 'missing' or 'invalid' values in the data (hint: look at where these values occur)? One approach is to simply exclude them from the dataframe. Is this appropriate for all 'missing' or 'invalid' values? How would you drop these values from the dataframe (hint: is it possible to eliminate just a single entry in your dataframe? Should you eliminate an entire row? Or column?)?"
      ]
    },
    {
      "cell_type": "code",
      "metadata": {
        "id": "bhkioAhcMnXe",
        "colab_type": "code",
        "colab": {}
      },
      "source": [
        "#Treat the missing or invalid values in your dataframe\n",
        "data = data[data.year.notnull()]"
      ],
      "execution_count": 0,
      "outputs": []
    },
    {
      "cell_type": "markdown",
      "metadata": {
        "id": "IkjHUBNlMnXh",
        "colab_type": "text"
      },
      "source": [
        "Ok so we have done some cleaning. What do things look like now? Notice the float has not yet changed."
      ]
    },
    {
      "cell_type": "code",
      "metadata": {
        "id": "T2YcKnWnMnXi",
        "colab_type": "code",
        "colab": {
          "base_uri": "https://localhost:8080/",
          "height": 204
        },
        "outputId": "6fb995c4-dbcf-463a-c74c-ab94fb8c782c"
      },
      "source": [
        "data.dtypes\n"
      ],
      "execution_count": 10,
      "outputs": [
        {
          "output_type": "execute_result",
          "data": {
            "text/plain": [
              "rating          float64\n",
              "review_count     object\n",
              "isbn             object\n",
              "booktype         object\n",
              "author_url       object\n",
              "year            float64\n",
              "genre_urls       object\n",
              "dir              object\n",
              "rating_count     object\n",
              "name             object\n",
              "dtype: object"
            ]
          },
          "metadata": {
            "tags": []
          },
          "execution_count": 10
        }
      ]
    },
    {
      "cell_type": "code",
      "metadata": {
        "id": "3ux7Ku-SMnXk",
        "colab_type": "code",
        "colab": {
          "base_uri": "https://localhost:8080/",
          "height": 85
        },
        "outputId": "51873e48-36a1-4d1d-a31b-c0c64fad7e04"
      },
      "source": [
        "print(np.sum(data.year.isnull()))\n",
        "print(np.sum(data.rating_count.isnull())) \n",
        "print(np.sum(data.review_count.isnull())) \n",
        "# How many rows are removed?\n",
        "data.shape"
      ],
      "execution_count": 11,
      "outputs": [
        {
          "output_type": "stream",
          "text": [
            "0\n",
            "0\n",
            "0\n"
          ],
          "name": "stdout"
        },
        {
          "output_type": "execute_result",
          "data": {
            "text/plain": [
              "(5993, 10)"
            ]
          },
          "metadata": {
            "tags": []
          },
          "execution_count": 11
        }
      ]
    },
    {
      "cell_type": "code",
      "metadata": {
        "id": "rpzGngSvMnXn",
        "colab_type": "code",
        "colab": {}
      },
      "source": [
        "#lets try to change the data types of rating count and year to integer\n",
        "data.rating_count=data.rating_count.astype(int)\n",
        "data.review_count=data.review_count.astype(int)\n",
        "data.year=data.year.astype(int)"
      ],
      "execution_count": 0,
      "outputs": []
    },
    {
      "cell_type": "code",
      "metadata": {
        "id": "D8HSjxYbMnXq",
        "colab_type": "code",
        "colab": {
          "base_uri": "https://localhost:8080/",
          "height": 204
        },
        "outputId": "046004b3-6502-4398-fce5-37a64ab0b18a"
      },
      "source": [
        "data.dtypes"
      ],
      "execution_count": 13,
      "outputs": [
        {
          "output_type": "execute_result",
          "data": {
            "text/plain": [
              "rating          float64\n",
              "review_count      int64\n",
              "isbn             object\n",
              "booktype         object\n",
              "author_url       object\n",
              "year              int64\n",
              "genre_urls       object\n",
              "dir              object\n",
              "rating_count      int64\n",
              "name             object\n",
              "dtype: object"
            ]
          },
          "metadata": {
            "tags": []
          },
          "execution_count": 13
        }
      ]
    },
    {
      "cell_type": "code",
      "metadata": {
        "id": "APGTZYDIMnXt",
        "colab_type": "code",
        "colab": {}
      },
      "source": [
        "# Some of the other colums that should be strings have NaN.\n",
        "data.loc[data.genre_urls.isnull(), 'genre_urls']=\"\"\n",
        "data.loc[data.isbn.isnull(), 'isbn']=\"\""
      ],
      "execution_count": 0,
      "outputs": []
    },
    {
      "cell_type": "markdown",
      "metadata": {
        "id": "-yhqtyDIMnXv",
        "colab_type": "text"
      },
      "source": [
        "##  Part 2: Asking Questions\n",
        "Think of few questions we want to ask and then examine the data and decide if the dataframe contains what you need to address these questions. Answer the following\n",
        "* Which are the best books?\n",
        "* Is finction more popular than fantasy? \n",
        "* Is J K Rowling the highest rated author?\n",
        "* What are the trends in popularity of genres?\n",
        "* Which genre is more popular now vs 100 years ago?"
      ]
    },
    {
      "cell_type": "markdown",
      "metadata": {
        "id": "NyvfNAqeMnXw",
        "colab_type": "text"
      },
      "source": [
        "##  Part 3: Parsing and Completing the Data Frame \n",
        "\n",
        "We will need author and genre to proceed! Parse the `author` column from the author_url and `genres` column from the genre_urls. Keep the `genres` column as a string separated by '|'.\n",
        "Examine an example `author_url` and reason about which sequence of string operations must be performed in order to isolate the author's name."
      ]
    },
    {
      "cell_type": "code",
      "metadata": {
        "id": "JXjjmFpZMnXx",
        "colab_type": "code",
        "colab": {
          "base_uri": "https://localhost:8080/",
          "height": 34
        },
        "outputId": "8d9f13b7-6e7c-4367-836b-8758b87ee733"
      },
      "source": [
        "#Get the first author_url\n",
        "test_string = data.author_url[0]\n",
        "print(test_string)"
      ],
      "execution_count": 15,
      "outputs": [
        {
          "output_type": "stream",
          "text": [
            "https://www.goodreads.com/author/show/153394.Suzanne_Collins\n"
          ],
          "name": "stdout"
        }
      ]
    },
    {
      "cell_type": "code",
      "metadata": {
        "id": "dQq7mR1qMnX0",
        "colab_type": "code",
        "colab": {
          "base_uri": "https://localhost:8080/",
          "height": 34
        },
        "outputId": "a74e4a2c-5520-4eb4-a56a-a54f2f489e61"
      },
      "source": [
        "# Isolate the author name\n",
        "test_string.split('/')[-1].split('.')[1:][0]"
      ],
      "execution_count": 16,
      "outputs": [
        {
          "output_type": "execute_result",
          "data": {
            "text/plain": [
              "'Suzanne_Collins'"
            ]
          },
          "metadata": {
            "tags": []
          },
          "execution_count": 16
        }
      ]
    },
    {
      "cell_type": "code",
      "metadata": {
        "id": "mjwm3W9JMnX4",
        "colab_type": "code",
        "colab": {
          "base_uri": "https://localhost:8080/",
          "height": 119
        },
        "outputId": "be77499c-667d-4511-a9f9-22510181f4bd"
      },
      "source": [
        "#Write a function that accepts an author url and returns the author's name based on your experimentation above\n",
        "def get_author(url):\n",
        "    \n",
        "    name = url.split('/')[-1].split('.')[1:][0]\n",
        "    return name\n",
        "\n",
        "#Apply the get_author function to the 'author_url' column using '.map' \n",
        "#and add a new column 'author' to store the names\n",
        "data['author'] = data.author_url.map(get_author)\n",
        "data.author[0:5]"
      ],
      "execution_count": 17,
      "outputs": [
        {
          "output_type": "execute_result",
          "data": {
            "text/plain": [
              "0    Suzanne_Collins\n",
              "1        J_K_Rowling\n",
              "2    Stephenie_Meyer\n",
              "3         Harper_Lee\n",
              "4        Jane_Austen\n",
              "Name: author, dtype: object"
            ]
          },
          "metadata": {
            "tags": []
          },
          "execution_count": 17
        }
      ]
    },
    {
      "cell_type": "markdown",
      "metadata": {
        "id": "YE3Ul6BfMnX6",
        "colab_type": "text"
      },
      "source": [
        "Now parse out the genres from `genre_url`.  Like with the authors, we'll assign a new `genres` column to the dataframe.\n",
        "This is a little more complicated because there be more than one genre."
      ]
    },
    {
      "cell_type": "code",
      "metadata": {
        "id": "7mPYuWtgMnYB",
        "colab_type": "code",
        "colab": {
          "base_uri": "https://localhost:8080/",
          "height": 119
        },
        "outputId": "83373b65-48e7-4679-c492-cd48274e56d1"
      },
      "source": [
        "data.genre_urls.head()"
      ],
      "execution_count": 18,
      "outputs": [
        {
          "output_type": "execute_result",
          "data": {
            "text/plain": [
              "0    /genres/young-adult|/genres/science-fiction|/g...\n",
              "1    /genres/fantasy|/genres/young-adult|/genres/fi...\n",
              "2    /genres/young-adult|/genres/fantasy|/genres/ro...\n",
              "3    /genres/classics|/genres/fiction|/genres/histo...\n",
              "4    /genres/classics|/genres/fiction|/genres/roman...\n",
              "Name: genre_urls, dtype: object"
            ]
          },
          "metadata": {
            "tags": []
          },
          "execution_count": 18
        }
      ]
    },
    {
      "cell_type": "code",
      "metadata": {
        "id": "qniCchuAMnYD",
        "colab_type": "code",
        "colab": {
          "base_uri": "https://localhost:8080/",
          "height": 292
        },
        "outputId": "e91551d8-630a-480b-f318-b087293eea69"
      },
      "source": [
        "#Examine some examples of genre_urls\n",
        "#Test out some string operations to isolate the genre name\n",
        "test_genre_string = data.genre_urls[0]\n",
        "print(test_genre_string)\n",
        "\n",
        "genres = test_genre_string.strip().split('|')\n",
        "print(genres)\n",
        "\n",
        "for e in genres:\n",
        "    print(e.split('/')[-1])\n",
        "# \"|\".join(genres)"
      ],
      "execution_count": 19,
      "outputs": [
        {
          "output_type": "stream",
          "text": [
            "/genres/young-adult|/genres/science-fiction|/genres/dystopia|/genres/fantasy|/genres/science-fiction|/genres/romance|/genres/adventure|/genres/book-club|/genres/young-adult|/genres/teen|/genres/apocalyptic|/genres/post-apocalyptic|/genres/action\n",
            "['/genres/young-adult', '/genres/science-fiction', '/genres/dystopia', '/genres/fantasy', '/genres/science-fiction', '/genres/romance', '/genres/adventure', '/genres/book-club', '/genres/young-adult', '/genres/teen', '/genres/apocalyptic', '/genres/post-apocalyptic', '/genres/action']\n",
            "young-adult\n",
            "science-fiction\n",
            "dystopia\n",
            "fantasy\n",
            "science-fiction\n",
            "romance\n",
            "adventure\n",
            "book-club\n",
            "young-adult\n",
            "teen\n",
            "apocalyptic\n",
            "post-apocalyptic\n",
            "action\n"
          ],
          "name": "stdout"
        }
      ]
    },
    {
      "cell_type": "code",
      "metadata": {
        "id": "TW9bPWo_MnYG",
        "colab_type": "code",
        "colab": {
          "base_uri": "https://localhost:8080/",
          "height": 428
        },
        "outputId": "987a35d3-5178-4fee-f291-77e2692904d7"
      },
      "source": [
        "#Write a function that accepts a genre url and returns the genre name based on your experimentation above\n",
        "def split_and_join_genres(url):\n",
        "    genres = url.strip().split('|')\n",
        "    genres = [e.split('/')[-1] for e in genres]\n",
        "    return \"|\".join(genres)\n",
        "\n",
        "data['genres'] = data.genre_urls.map(split_and_join_genres)\n",
        "data.head()"
      ],
      "execution_count": 20,
      "outputs": [
        {
          "output_type": "execute_result",
          "data": {
            "text/html": [
              "<div>\n",
              "<style scoped>\n",
              "    .dataframe tbody tr th:only-of-type {\n",
              "        vertical-align: middle;\n",
              "    }\n",
              "\n",
              "    .dataframe tbody tr th {\n",
              "        vertical-align: top;\n",
              "    }\n",
              "\n",
              "    .dataframe thead th {\n",
              "        text-align: right;\n",
              "    }\n",
              "</style>\n",
              "<table border=\"1\" class=\"dataframe\">\n",
              "  <thead>\n",
              "    <tr style=\"text-align: right;\">\n",
              "      <th></th>\n",
              "      <th>rating</th>\n",
              "      <th>review_count</th>\n",
              "      <th>isbn</th>\n",
              "      <th>booktype</th>\n",
              "      <th>author_url</th>\n",
              "      <th>year</th>\n",
              "      <th>genre_urls</th>\n",
              "      <th>dir</th>\n",
              "      <th>rating_count</th>\n",
              "      <th>name</th>\n",
              "      <th>author</th>\n",
              "      <th>genres</th>\n",
              "    </tr>\n",
              "  </thead>\n",
              "  <tbody>\n",
              "    <tr>\n",
              "      <th>0</th>\n",
              "      <td>4.40</td>\n",
              "      <td>136455</td>\n",
              "      <td>0439023483</td>\n",
              "      <td>good_reads:book</td>\n",
              "      <td>https://www.goodreads.com/author/show/153394.S...</td>\n",
              "      <td>2008</td>\n",
              "      <td>/genres/young-adult|/genres/science-fiction|/g...</td>\n",
              "      <td>dir01/2767052-the-hunger-games.html</td>\n",
              "      <td>2958974</td>\n",
              "      <td>The Hunger Games (The Hunger Games, #1)</td>\n",
              "      <td>Suzanne_Collins</td>\n",
              "      <td>young-adult|science-fiction|dystopia|fantasy|s...</td>\n",
              "    </tr>\n",
              "    <tr>\n",
              "      <th>1</th>\n",
              "      <td>4.41</td>\n",
              "      <td>16648</td>\n",
              "      <td>0439358078</td>\n",
              "      <td>good_reads:book</td>\n",
              "      <td>https://www.goodreads.com/author/show/1077326....</td>\n",
              "      <td>2003</td>\n",
              "      <td>/genres/fantasy|/genres/young-adult|/genres/fi...</td>\n",
              "      <td>dir01/2.Harry_Potter_and_the_Order_of_the_Phoe...</td>\n",
              "      <td>1284478</td>\n",
              "      <td>Harry Potter and the Order of the Phoenix (Har...</td>\n",
              "      <td>J_K_Rowling</td>\n",
              "      <td>fantasy|young-adult|fiction|fantasy|magic|chil...</td>\n",
              "    </tr>\n",
              "    <tr>\n",
              "      <th>2</th>\n",
              "      <td>3.56</td>\n",
              "      <td>85746</td>\n",
              "      <td>0316015849</td>\n",
              "      <td>good_reads:book</td>\n",
              "      <td>https://www.goodreads.com/author/show/941441.S...</td>\n",
              "      <td>2005</td>\n",
              "      <td>/genres/young-adult|/genres/fantasy|/genres/ro...</td>\n",
              "      <td>dir01/41865.Twilight.html</td>\n",
              "      <td>2579564</td>\n",
              "      <td>Twilight (Twilight, #1)</td>\n",
              "      <td>Stephenie_Meyer</td>\n",
              "      <td>young-adult|fantasy|romance|paranormal|vampire...</td>\n",
              "    </tr>\n",
              "    <tr>\n",
              "      <th>3</th>\n",
              "      <td>4.23</td>\n",
              "      <td>47906</td>\n",
              "      <td>0061120081</td>\n",
              "      <td>good_reads:book</td>\n",
              "      <td>https://www.goodreads.com/author/show/1825.Har...</td>\n",
              "      <td>1960</td>\n",
              "      <td>/genres/classics|/genres/fiction|/genres/histo...</td>\n",
              "      <td>dir01/2657.To_Kill_a_Mockingbird.html</td>\n",
              "      <td>2078123</td>\n",
              "      <td>To Kill a Mockingbird</td>\n",
              "      <td>Harper_Lee</td>\n",
              "      <td>classics|fiction|historical-fiction|academic|s...</td>\n",
              "    </tr>\n",
              "    <tr>\n",
              "      <th>4</th>\n",
              "      <td>4.23</td>\n",
              "      <td>34772</td>\n",
              "      <td>0679783261</td>\n",
              "      <td>good_reads:book</td>\n",
              "      <td>https://www.goodreads.com/author/show/1265.Jan...</td>\n",
              "      <td>1813</td>\n",
              "      <td>/genres/classics|/genres/fiction|/genres/roman...</td>\n",
              "      <td>dir01/1885.Pride_and_Prejudice.html</td>\n",
              "      <td>1388992</td>\n",
              "      <td>Pride and Prejudice</td>\n",
              "      <td>Jane_Austen</td>\n",
              "      <td>classics|fiction|romance|historical-fiction|li...</td>\n",
              "    </tr>\n",
              "  </tbody>\n",
              "</table>\n",
              "</div>"
            ],
            "text/plain": [
              "   rating  ...                                             genres\n",
              "0    4.40  ...  young-adult|science-fiction|dystopia|fantasy|s...\n",
              "1    4.41  ...  fantasy|young-adult|fiction|fantasy|magic|chil...\n",
              "2    3.56  ...  young-adult|fantasy|romance|paranormal|vampire...\n",
              "3    4.23  ...  classics|fiction|historical-fiction|academic|s...\n",
              "4    4.23  ...  classics|fiction|romance|historical-fiction|li...\n",
              "\n",
              "[5 rows x 12 columns]"
            ]
          },
          "metadata": {
            "tags": []
          },
          "execution_count": 20
        }
      ]
    },
    {
      "cell_type": "code",
      "metadata": {
        "id": "dRVD2lblMnYI",
        "colab_type": "code",
        "colab": {
          "base_uri": "https://localhost:8080/",
          "height": 34
        },
        "outputId": "fee7dc7f-0705-4470-8023-281c2baf8f0c"
      },
      "source": [
        "# test the function\n",
        "split_and_join_genres(\"\")\n",
        "split_and_join_genres(\"/genres/young-adult|/genres/science-fiction\")"
      ],
      "execution_count": 21,
      "outputs": [
        {
          "output_type": "execute_result",
          "data": {
            "text/plain": [
              "'young-adult|science-fiction'"
            ]
          },
          "metadata": {
            "tags": []
          },
          "execution_count": 21
        }
      ]
    },
    {
      "cell_type": "markdown",
      "metadata": {
        "id": "xsg9rOGYMnYK",
        "colab_type": "text"
      },
      "source": [
        "Finally, let's pick an author at random so we can see the results of the transformations.  Scroll to see the `author` and `genre` columns that we added to the dataframe."
      ]
    },
    {
      "cell_type": "code",
      "metadata": {
        "scrolled": true,
        "id": "Pk5LDdv9MnYK",
        "colab_type": "code",
        "colab": {
          "base_uri": "https://localhost:8080/",
          "height": 182
        },
        "outputId": "d68a9838-a4ec-47e5-e97b-058874ee45b5"
      },
      "source": [
        "data[data.author == \"Marguerite_Yourcenar\"]"
      ],
      "execution_count": 22,
      "outputs": [
        {
          "output_type": "execute_result",
          "data": {
            "text/html": [
              "<div>\n",
              "<style scoped>\n",
              "    .dataframe tbody tr th:only-of-type {\n",
              "        vertical-align: middle;\n",
              "    }\n",
              "\n",
              "    .dataframe tbody tr th {\n",
              "        vertical-align: top;\n",
              "    }\n",
              "\n",
              "    .dataframe thead th {\n",
              "        text-align: right;\n",
              "    }\n",
              "</style>\n",
              "<table border=\"1\" class=\"dataframe\">\n",
              "  <thead>\n",
              "    <tr style=\"text-align: right;\">\n",
              "      <th></th>\n",
              "      <th>rating</th>\n",
              "      <th>review_count</th>\n",
              "      <th>isbn</th>\n",
              "      <th>booktype</th>\n",
              "      <th>author_url</th>\n",
              "      <th>year</th>\n",
              "      <th>genre_urls</th>\n",
              "      <th>dir</th>\n",
              "      <th>rating_count</th>\n",
              "      <th>name</th>\n",
              "      <th>author</th>\n",
              "      <th>genres</th>\n",
              "    </tr>\n",
              "  </thead>\n",
              "  <tbody>\n",
              "    <tr>\n",
              "      <th>1014</th>\n",
              "      <td>4.23</td>\n",
              "      <td>483</td>\n",
              "      <td>0374529264</td>\n",
              "      <td>good_reads:book</td>\n",
              "      <td>https://www.goodreads.com/author/show/7732.Mar...</td>\n",
              "      <td>1951</td>\n",
              "      <td>/genres/historical-fiction|/genres/fiction|/ge...</td>\n",
              "      <td>dir11/12172.Memoirs_of_Hadrian.html</td>\n",
              "      <td>6258</td>\n",
              "      <td>Memoirs of Hadrian</td>\n",
              "      <td>Marguerite_Yourcenar</td>\n",
              "      <td>historical-fiction|fiction|cultural|france|cla...</td>\n",
              "    </tr>\n",
              "    <tr>\n",
              "      <th>5620</th>\n",
              "      <td>4.11</td>\n",
              "      <td>74</td>\n",
              "      <td>2070367983</td>\n",
              "      <td>good_reads:book</td>\n",
              "      <td>https://www.goodreads.com/author/show/7732.Mar...</td>\n",
              "      <td>1968</td>\n",
              "      <td>/genres/fiction|/genres/historical-fiction|/ge...</td>\n",
              "      <td>dir57/953435.L_uvre_au_noir.html</td>\n",
              "      <td>1601</td>\n",
              "      <td>L'Åuvre au noir</td>\n",
              "      <td>Marguerite_Yourcenar</td>\n",
              "      <td>fiction|historical-fiction|cultural|france|eur...</td>\n",
              "    </tr>\n",
              "  </tbody>\n",
              "</table>\n",
              "</div>"
            ],
            "text/plain": [
              "      rating  ...                                             genres\n",
              "1014    4.23  ...  historical-fiction|fiction|cultural|france|cla...\n",
              "5620    4.11  ...  fiction|historical-fiction|cultural|france|eur...\n",
              "\n",
              "[2 rows x 12 columns]"
            ]
          },
          "metadata": {
            "tags": []
          },
          "execution_count": 22
        }
      ]
    },
    {
      "cell_type": "markdown",
      "metadata": {
        "id": "12wQ8m93MnYM",
        "colab_type": "text"
      },
      "source": [
        "## Part 4: EDA \n",
        "Before proceeding any further, get to know the dataset using a few \"global property\" visualizations, illustrating histograms with both linear and log scales. Do you find anything interesting or strange? "
      ]
    },
    {
      "cell_type": "code",
      "metadata": {
        "id": "P9N5h-rjMnYN",
        "colab_type": "code",
        "colab": {
          "base_uri": "https://localhost:8080/",
          "height": 295
        },
        "outputId": "ab31b939-da8c-4452-fbdd-b7e34b3b3179"
      },
      "source": [
        "# Generate histograms using the format data.COLUMN_NAME.hist(bins=YOUR_CHOICE_OF_BIN_SIZE)\n",
        "# If your histograms appear strange or counter-intuitive, make appropriate adjustments in the data and re-visualize.\n",
        "\n",
        "data.review_count.hist(bins=200)\n",
        "plt.xlabel('Number of reviews')\n",
        "plt.ylabel('Frequency')\n",
        "plt.title('Number of reviews');\n",
        "\n",
        "plt.show();"
      ],
      "execution_count": 23,
      "outputs": [
        {
          "output_type": "display_data",
          "data": {
            "image/png": "[encoded data removed]",
            "text/plain": [
              "<Figure size 432x288 with 1 Axes>"
            ]
          },
          "metadata": {
            "tags": []
          }
        }
      ]
    },
    {
      "cell_type": "code",
      "metadata": {
        "id": "5R6veF6oMnYP",
        "colab_type": "code",
        "colab": {
          "base_uri": "https://localhost:8080/",
          "height": 295
        },
        "outputId": "d3c34df0-c484-43ad-c8e4-3439c51df6c6"
      },
      "source": [
        "plt.hist(data.year, bins=100);\n",
        "plt.xlabel('Year written')\n",
        "plt.ylabel('log(Frequency)')\n",
        "plt.title('Number of books in a year')\n",
        "plt.show();"
      ],
      "execution_count": 24,
      "outputs": [
        {
          "output_type": "display_data",
          "data": {
            "image/png": "[encoded data removed]",
            "text/plain": [
              "<Figure size 432x288 with 1 Axes>"
            ]
          },
          "metadata": {
            "tags": []
          }
        }
      ]
    },
    {
      "cell_type": "code",
      "metadata": {
        "id": "UuYOT5J-MnYS",
        "colab_type": "code",
        "colab": {
          "base_uri": "https://localhost:8080/",
          "height": 408
        },
        "outputId": "fe0afa02-bc23-455f-c905-6fac893ee5cc"
      },
      "source": [
        "#It appears that some books were written in negative years!  \n",
        "# Print out the observations that correspond to negative years.  \n",
        "data[data.year < 0].name\n",
        "# What do you notice about these books?  "
      ],
      "execution_count": 25,
      "outputs": [
        {
          "output_type": "execute_result",
          "data": {
            "text/plain": [
              "47                               The Odyssey\n",
              "246                    The Iliad/The Odyssey\n",
              "455                             The Republic\n",
              "596                               The Aeneid\n",
              "629                              Oedipus Rex\n",
              "674                           The Art of War\n",
              "746                        The Bhagavad Gita\n",
              "777                                 Antigone\n",
              "1233                       The Oedipus Cycle\n",
              "1397                          Aesop's Fables\n",
              "1398                   The Epic of Gilgamesh\n",
              "1428                                   Medea\n",
              "1815                            The Oresteia\n",
              "1882         The Trial and Death of Socrates\n",
              "2078    The History of the Peloponnesian War\n",
              "2527                           The Histories\n",
              "3133                          Complete Works\n",
              "3274                  The Nicomachean Ethics\n",
              "3757                              Lysistrata\n",
              "4402                           The Symposium\n",
              "4475                                 Apology\n",
              "5367                          Five Dialogues\n",
              "Name: name, dtype: object"
            ]
          },
          "metadata": {
            "tags": []
          },
          "execution_count": 25
        }
      ]
    },
    {
      "cell_type": "markdown",
      "metadata": {
        "id": "45bbN2G5MnYU",
        "colab_type": "text"
      },
      "source": [
        "\n",
        "## Part 5:  Determining the Best Books \n",
        "\n",
        "This is an example of an analysis of the \"grouped property\" type.\n",
        "Think of some reasonable definitions of what it could mean to be a \"best book.\" (After all, these are all the best books according to Goodreads)\n",
        "For example, we can determine the \"best book\" by year!"
      ]
    },
    {
      "cell_type": "code",
      "metadata": {
        "id": "en_RjtA2MnYV",
        "colab_type": "code",
        "colab": {
          "base_uri": "https://localhost:8080/",
          "height": 1000
        },
        "outputId": "87d2e6ba-a5e9-436a-ba76-d44500e87262"
      },
      "source": [
        "#Using .groupby, we can divide the dataframe into subsets by the values of 'year'.\n",
        "#We can then iterate over these subsets\n",
        "\n",
        "for year, subset in data.groupby('year'):\n",
        "    #Find the best book of the year\n",
        "    bestbook = subset[subset.rating == subset.rating.max()]\n",
        "    if bestbook.shape[0] > 1:\n",
        "        print(year, bestbook.name.values, bestbook.rating.values)\n",
        "    else:\n",
        "        print(year, bestbook.name.values[0], bestbook.rating.values[0])"
      ],
      "execution_count": 26,
      "outputs": [
        {
          "output_type": "stream",
          "text": [
            "-1500 The Epic of Gilgamesh 3.6\n",
            "-800 The Iliad/The Odyssey 4.01\n",
            "-560 Aesop's Fables 4.03\n",
            "-512 The Art of War 3.92\n",
            "-500 The Bhagavad Gita 4.06\n",
            "-458 The Oresteia 3.96\n",
            "-442 Antigone 3.52\n",
            "-440 The Histories 3.94\n",
            "-431 Medea 3.8\n",
            "-429 Oedipus Rex 3.64\n",
            "-411 The History of the Peloponnesian War 3.84\n",
            "-400 Complete Works 4.3\n",
            "-390 Apology 4.11\n",
            "-380 The Republic 3.85\n",
            "-370 The Symposium 3.99\n",
            "-360 Five Dialogues 4.07\n",
            "-350 The Nicomachean Ethics 3.88\n",
            "-29 The Aeneid 3.77\n",
            "4 The Seven Spiritual Laws of Success 4.04\n",
            "8 Metamorphoses 4.01\n",
            "13 The Day Jesus Rode Into Croydon 3.85\n",
            "100 The New Oxford Annotated Bible, New Revised Standard Version 4.3\n",
            "121 The Twelve Caesars 4.02\n",
            "130 Holy Bible 4.45\n",
            "158 The Golden Ass 3.88\n",
            "174 Meditations 4.16\n",
            "200 The Garden of Eden 3.75\n",
            "201 Fe Fi FOE Comes 4.37\n",
            "213 NaÃ¯ve. Super 3.9\n",
            "397 Confessions 3.82\n",
            "632 The Quran 4.37\n",
            "800 Beowulf 3.38\n",
            "900 The Arabian Nights 4.04\n",
            "968 La BÃªte humaine (Les Rougon-Macquart, #17) 4.02\n",
            "1002 The Pillow Book 4.04\n",
            "1008 The Tale of Genji 3.68\n",
            "1010 Shahnameh 4.52\n",
            "1100 Rubaiyat of Omar Khayyam 4.22\n",
            "1106 The TÃ¡in 3.98\n",
            "1140 Poema de MÃ­o Cid 3.42\n",
            "1200 The Poetic Edda 4.24\n",
            "1215 ÙØ«ÙÙÛ ÙØ¹ÙÙÛ 4.44\n",
            "1220 The Prose Edda 4.16\n",
            "1300 The Imitation of Christ 4.16\n",
            "1314 Inferno (The Divine Comedy, #1) 3.96\n",
            "1321 The Divine Comedy 4.04\n",
            "1348 The Decameron 3.85\n",
            "1386 Auto-da-FÃ© 4.04\n",
            "1390 Sir Gawain and the Green Knight 3.66\n",
            "1391 Keep the Aspidistra Flying 3.86\n",
            "1485 Le Morte d'Arthur 3.91\n",
            "1516 Utopia 3.46\n",
            "1522 Three Kingdoms 4.41\n",
            "1532 The Prince 3.72\n",
            "1572 The Complete Essays 4.21\n",
            "1589 Titus Andronicus 3.7\n",
            "1590 The Taming of the Shrew 3.82\n",
            "1592 Monkey 4.04\n",
            "1595 A Midsummer Night's Dream 3.93\n",
            "1597 Richard III 3.9\n",
            "1599 Much Ado About Nothing 4.05\n",
            "1600 Henry V 3.85\n",
            "1601 Twelfth Night 3.95\n",
            "1602 Hamlet 3.98\n",
            "1603 Othello 3.86\n",
            "1604 Doctor Faustus 3.77\n",
            "1605 King Lear 3.88\n",
            "1606 Antony and Cleopatra 3.64\n",
            "1608 Coriolanus 3.65\n",
            "1609 Shakespeare's Sonnets 4.24\n",
            "1611 Holy Bible 4.39\n",
            "1621 The Anatomy of Melancholy 4.21\n",
            "1623 The Complete Works 4.5\n",
            "1635 La vida es sueÃ±o 3.98\n",
            "1642 A Book of Five Rings 4.11\n",
            "1667 Paradise Lost 3.77\n",
            "1678 The Pilgrim's Progress 3.92\n",
            "1680 The Divan 4.65\n",
            "1691 The Practice of the Presence of God 4.31\n",
            "1719 Robinson Crusoe 3.62\n",
            "1721 Moll Flanders 3.45\n",
            "1726 Gulliver's Travels 3.52\n",
            "1729 A Modest Proposal and Other Satirical Works 4.03\n",
            "1748 Clarissa, or, the History of a Young Lady 3.28\n",
            "1749 The History of Tom Jones, a Foundling 3.72\n",
            "1759 Candide 3.74\n",
            "1767 The Life and Opinions of Tristram Shandy, Gentleman 3.76\n",
            "1774 The Sorrows of Young Werther 3.59\n",
            "1776 The Declaration of Independence and The Constitution of the United States 4.44\n",
            "1778 Evelina 3.62\n",
            "1781 Critique of Pure Reason 3.85\n",
            "1782 Les Liaisons Dangereuses 4.08\n",
            "1787 The Constitution of the United States of America 4.52\n",
            "1790 The Marriage of Heaven and Hell 4.27\n",
            "1791 Dream of the Red Chamber 4.05\n",
            "1794 Songs of Innocence and of Experience 4.11\n",
            "1795 The Monk 3.77\n",
            "1798 Lyrical Ballads 3.92\n",
            "1806 Phenomenology of Spirit 3.85\n",
            "1811 Sense and Sensibility 4.04\n",
            "1812 The Complete Grimm's Fairy Tales 4.29\n",
            "1813 Pride and Prejudice 4.23\n",
            "1814 Mansfield Park 3.79\n",
            "1815 Emma 3.97\n",
            "1817 Persuasion 4.12\n",
            "1818 Frankenstein 3.7\n",
            "1819 Ivanhoe 3.71\n",
            "1820 The Legend of Sleepy Hollow 3.94\n",
            "1823 The Night Before Christmas 4.34\n",
            "1824 Don Juan 3.79\n",
            "1825 Eugene Onegin 4.03\n",
            "1826 The Last of the Mohicans (The Leatherstocking Tales #2) 3.67\n",
            "1830 The Book of Mormon 4.42\n",
            "1831 The Hunchback of Notre-Dame 3.93\n",
            "1832 Faust 3.98\n",
            "1833 Poetry 4.04\n",
            "1834 PÃ¨re Goriot 3.79\n",
            "1835 Hymns of The Church of Jesus Christ of Latter-day Saints 4.68\n",
            "1837 A Season in Hell/The Drunken Boat 4.34\n",
            "1839 A Hero of Our Time 4.09\n",
            "1840 Tales of Mystery and Imagination 4.2\n",
            "1841 The Old Curiosity Shop 3.69\n",
            "1842 The pit and the pendulum and other stories (Penguin 60s) 4.12\n",
            "1843 Lost Illusions 4.14\n",
            "1844 The Raven 4.23\n",
            "1845 The Raven and Other Poems 4.27\n",
            "1847 Jane Eyre 4.07\n",
            "1848 White Nights and Other Stories 4.09\n",
            "1849 The Law 4.4\n",
            "1850 Ishmael 4.4\n",
            "1851 Paris Spleen 4.33\n",
            "1852 Uncle Tom's Cabin 3.77\n",
            "1853 The History of Joseph Smith by His Mother 4.37\n",
            "1854 Walden & Civil Disobedience 3.97\n",
            "1855 North and South 4.13\n",
            "1856 Song of Myself 4.17\n",
            "1857 Les Fleurs du Mal 4.26\n",
            "1859 The Origin of Species 3.94\n",
            "1860 Stepping Heavenward 4.27\n",
            "1861 Notes from Underground 4.14\n",
            "1862 Les MisÃ©rables 4.09\n",
            "1863 From the Earth to the Moon (Extraordinary Voyages, #4) 3.76\n",
            "1864 Our Mutual Friend 4.08\n",
            "1865 [\"Alice's Adventures in Wonderland & Through the Looking-Glass\"\n",
            " 'Wives and Daughters'] [4.05 4.05]\n",
            "1866 Morning and Evening, Based on the English Standard Version 4.49\n",
            "1867 Capital, Volume 1 (Das Kapital, #1) 4.15\n",
            "1868 Little Women (Little Women, #1) 4.0\n",
            "1869 The Idiot 4.15\n",
            "1870 Complete Works 4.42\n",
            "1871 Through the Looking-Glass, and What Alice Found There (Alice's Adventures in Wonderland #2) 4.09\n",
            "1872 Middlemarch 3.89\n",
            "1873 Around the World in Eighty Days 3.87\n",
            "1874 The Complete Fairy Tales 4.27\n",
            "1875 Illuminations 4.42\n",
            "1876 The Adventures of Tom Sawyer 3.86\n",
            "1877 L'Assommoir (The Dram Shop) (The Dram Shop) (Les Rougon-Macquart, #7) 4.05\n",
            "1878 Human, All Too Human 4.2\n",
            "1879 Sir Gibbie 4.25\n",
            "1880 The Brothers Karamazov 4.28\n",
            "1881 The Prince and the Pauper 3.81\n",
            "1882 The Gay Science 4.23\n",
            "1883 Thus Spoke Zarathustra 4.03\n",
            "1884 The Death of Ivan Ilych 3.98\n",
            "1885 Germinal (Les Rougon-Macquart, #13) 4.05\n",
            "1886 Beyond Good and Evil 4.0\n",
            "1887 A Study in Scarlet (Sherlock Holmes, #1) 4.13\n",
            "1888 ['The Complete Fairy Tales' 'The Nightingale and the Rose'] [4.33 4.33]\n",
            "1889 The Collected Poems 4.25\n",
            "1890 Hunger 4.11\n",
            "1891 A Scandal in Bohemia (The Adventures of Sherlock Holmes, #1) 4.22\n",
            "1892 The Adventures of Sherlock Holmes (Sherlock Holmes, #3) 4.27\n",
            "1893 The Memoirs of Sherlock Holmes (Sherlock Holmes, #4) 4.33\n",
            "1894 The Jungle Books 3.97\n",
            "1895 The Importance of Being Earnest and Other Plays 4.24\n",
            "1896 Story of a Soul 4.36\n",
            "1897 De Profundis and Other Writings 4.19\n",
            "1898 The War of the Worlds 3.75\n",
            "1899 The Complete Works of William Shakespeare 4.62\n",
            "1900 Selected Stories 4.35\n",
            "1901 The Tale of Peter Rabbit 4.14\n",
            "1902 Holy Bible 4.66\n",
            "1903 The Scarlet Pimpernel 4.05\n",
            "1904 The Return of Sherlock Holmes (Sherlock Holmes, #6) 4.27\n",
            "1905 A Little Princess 4.19\n",
            "1906 The Unabridged Devil's Dictionary 4.15\n",
            "1907 The Shepherd of the Hills 4.14\n",
            "1908 The Complete Anne of Green Gables Boxed Set (Anne of Green Gables, #1-8) 4.42\n",
            "1909 Martin Eden 4.31\n",
            "1910 Gitanjali 4.33\n",
            "1911 The Secret Garden 4.09\n",
            "1912 Daddy-Long-Legs (Daddy-Long-Legs, #1) 4.07\n",
            "1913 In the Shadow of Young Girls in Flower (In Search of Lost Time, #2) 4.39\n",
            "1914 Rashomon and Seventeen Other Stories 4.1\n",
            "1915 Jesus the Christ 4.66\n",
            "1916 The Mysterious Stranger 4.14\n",
            "1917 Anne's House of Dreams (Anne of Green Gables, #5) 4.1\n",
            "1918 The Elements of Style 4.17\n",
            "1919 Remembrance of Things Past 4.28\n",
            "1920 The Guermantes Way 4.33\n",
            "1921 Rilla of Ingleside (Anne of Green Gables, #8) 4.13\n",
            "1922 Remembrance of Things Past 4.53\n",
            "1923 Leave It to Psmith (Psmith, #4 ; Blandings Castle, #2) 4.28\n",
            "1924 The Complete Sherlock Holmes 4.49\n",
            "1925 The Captive & The Fugitive (In Search of Lost Time, #5-6) 4.41\n",
            "1926 The World of Winnie-the-Pooh 4.41\n",
            "1927 Time Regained (In Search of Lost Time, #7) 4.5\n",
            "1928 The House at Pooh Corner 4.35\n",
            "1929 Letters to a Young Poet 4.35\n",
            "1930 The Complete Sherlock Holmes, Volume II 4.44\n",
            "1931 The Joy of Cooking 4.15\n",
            "1932 Journey to the End of the Night 4.25\n",
            "1933 The Complete Novels 4.54\n",
            "1934 I, Claudius/Claudius the God 4.42\n",
            "1935 Musashi 4.41\n",
            "1936 Three Comrades 4.48\n",
            "1937 The Cost of Discipleship 4.35\n",
            "1938 The Science of Mind 4.39\n",
            "1939 Arch of Triumph 4.39\n",
            "1940 The Little Prince 4.23\n",
            "1941 Ø¹Ø¨ÙØ±ÙØ© Ø¹ÙØ± 4.25\n",
            "1942 The Little House 4.27\n",
            "1943 KÃ¼rk Mantolu Madonna 4.55\n",
            "1944 Ficciones 4.48\n",
            "1945 The Aleph and Other Stories 4.41\n",
            "1946 The Complete Stories 4.34\n",
            "1947 Survival in Auschwitz 4.32\n",
            "1948 King of the Wind 4.17\n",
            "1949 Paroles 4.27\n",
            "1950 à®ªà¯à®©à¯à®©à®¿à®¯à®¿à®©à¯ à®à¯à®²à¯à®µà®©à¯ [Ponniyin Selvan] 4.71\n",
            "1951 The Foundation Trilogy (Foundation, #1-3) 4.37\n",
            "1952 Holy Bible 4.55\n",
            "1953 The Flight of the Feathered Serpent 4.55\n",
            "1954 The Return of the King (The Lord of the Rings, #3) 4.48\n",
            "1955 Les rois maudits Vols 1-7 4.44\n",
            "1956 Through Gates of Splendor 4.37\n",
            "1957 The Cairo Trilogy (The Cairo Trilogy #1-3) 4.46\n",
            "1958 Exodus 4.31\n",
            "1959 ['Life and Fate' '100 Love Sonnets'] [4.44 4.44]\n",
            "1960 The Annotated Alice 4.48\n",
            "1961 New World Translation of the Holy Scriptures 4.59\n",
            "1962 Labyrinths 4.47\n",
            "1963 The Civil War 4.58\n",
            "1964 The Feynman Lectures on Physics 4.57\n",
            "1965 Manchild in the Promised Land 4.3\n",
            "1966 The Disorderly Knights (The Lymond Chronicles, #3) 4.57\n",
            "1967 ['The Master and Margarita' 'The Forgotten Soldier'] [4.33 4.33]\n",
            "1968 The Proper Role of Government 4.49\n",
            "1969 Pawn in Frankincense (The Lymond Chronicles, #4) 4.64\n",
            "1970 The Fortress 4.67\n",
            "1971 Tutunamayanlar 4.61\n",
            "1972 Le Monogramme 4.78\n",
            "1973 J.R.R. Tolkien 4-Book Boxed Set 4.58\n",
            "1974 The Power Broker 4.51\n",
            "1975 Checkmate (The Lymond Chronicles, #6) 4.71\n",
            "1976 Roots 4.39\n",
            "1977 A Lover's Discourse 4.37\n",
            "1978 The Best of Roald Dahl 4.38\n",
            "1979 GÃ¶del, Escher, Bach 4.29\n",
            "1980 Cosmos 4.35\n",
            "1981 The Lord God Made Them All 4.36\n",
            "1982 The Book of Disquiet 4.52\n",
            "1983 Essays and Lectures 4.27\n",
            "1984 Ø§ÙØ¥Ø³ÙØ§Ù Ø¨ÙÙ Ø§ÙØ´Ø±Ù ÙØ§ÙØºØ±Ø¨ 4.46\n",
            "1985 Lonesome Dove 4.44\n",
            "1986 The Hitchhiker's Guide to the Galaxy 4.5\n",
            "1987 Calvin and Hobbes 4.61\n",
            "1988 The Essential Calvin and Hobbes 4.64\n",
            "1989 The Hobbit 4.48\n",
            "1990 The Authoritative Calvin And Hobbes 4.7\n",
            "1991 Rain of Gold 4.49\n",
            "1992 The Indispensable Calvin and Hobbes 4.71\n",
            "1993 Mark of the Lion Trilogy 4.75\n",
            "1994 The Complete Aubrey/Maturin Novels (5 Volumes) 4.69\n",
            "1995 The Calvin and Hobbes Tenth Anniversary Book 4.63\n",
            "1996 Calvin and Hobbes 4.75\n",
            "1997 The Song of the Lioness Quartet (Song of the Lioness, #1-4) 4.57\n",
            "1998 Harry Potter Boxset (Harry Potter, #1-7) 4.73\n",
            "1999 The Harry Potter Collection (Harry Potter, #1-4) 4.63\n",
            "2000 Standing for Something 4.64\n",
            "2001 A Storm of Swords (A Song of Ice and Fire, #3-1) 4.5\n",
            "2002 Way to Be! 4.62\n",
            "2003 The Complete Far Side, 1980-1994 4.66\n",
            "2004 Ù¾ÛØ±Ù Ú©Ø§ÙÙ 4.58\n",
            "2005 The Complete Calvin and Hobbes 4.8\n",
            "2006 Warriors Boxed Set (Warriors, #1-3) 4.67\n",
            "2007 ESV Study Bible 4.76\n",
            "2008 The Absolute Sandman, Vol. 4 4.75\n",
            "2009 Black Dagger Brotherhood 4.69\n",
            "2010 The Years Distilled 4.93\n",
            "2011 Family Secrets 5.0\n",
            "2012 ['A Book About Absolutely Nothing.'\n",
            " 'Obscured Darkness (Family Secrets #2)' \"Patience's Love\"\n",
            " 'Abstraction In Theory - Laws Of Physical Transaction'] [5. 5. 5. 5.]\n",
            "2013 Blade Heart 4.93\n",
            "2014 ['An Elephant Is On My House' 'Untainted (Photographer Trilogy, #3)'] [5. 5.]\n"
          ],
          "name": "stdout"
        }
      ]
    },
    {
      "cell_type": "markdown",
      "metadata": {
        "id": "5sudcC00MnYX",
        "colab_type": "text"
      },
      "source": [
        "## Part 6:  Trends in Popularity of Genres \n",
        "\n",
        "This is an example of an analysis of the \"grouped property\" type.\n",
        "There are a lot of questions you could ask about genres.\n",
        "* Which genre is currently the most popular?\n",
        "* Better, based on our data, what draw conclusions can you draw about the time evolution of the popularity of each genre?"
      ]
    },
    {
      "cell_type": "markdown",
      "metadata": {
        "id": "40RMkrnVMnYZ",
        "colab_type": "text"
      },
      "source": [
        "First we need to find the distinct genres in the dataframe. \n",
        "To do this, notice that each string is a pipe (|) separated list of genres. For each string, we ask if the genre is in that pipe separated list.  If it is, we return True, else False \n",
        "**Hint: remember that python sets have unique (non-repeating) items.**"
      ]
    },
    {
      "cell_type": "code",
      "metadata": {
        "id": "wWWanNJ7MnYa",
        "colab_type": "code",
        "colab": {
          "base_uri": "https://localhost:8080/",
          "height": 1000
        },
        "outputId": "fb6478f4-871b-4055-c2ec-07acc44c256e"
      },
      "source": [
        "#Get the unique genres contained in the dataframe.\n",
        "genres = set()\n",
        "for genre_string in data.genres:\n",
        "    genres.update(genre_string.split('|'))\n",
        "genres = sorted(genres)\n",
        "genres"
      ],
      "execution_count": 27,
      "outputs": [
        {
          "output_type": "execute_result",
          "data": {
            "text/plain": [
              "['',\n",
              " '14th-century',\n",
              " '15th-century',\n",
              " '16th-century',\n",
              " '17th-century',\n",
              " '18th-century',\n",
              " '19th-century',\n",
              " '20th-century',\n",
              " 'abuse',\n",
              " 'academia',\n",
              " 'academic',\n",
              " 'action',\n",
              " 'activism',\n",
              " 'adolescence',\n",
              " 'adoption',\n",
              " 'adult',\n",
              " 'adult-fiction',\n",
              " 'adventure',\n",
              " 'africa',\n",
              " 'african-american',\n",
              " 'african-american-literature',\n",
              " 'african-literature',\n",
              " 'aliens',\n",
              " 'alternate-history',\n",
              " 'american',\n",
              " 'american-civil-war',\n",
              " 'american-fiction',\n",
              " 'american-history',\n",
              " 'american-novels',\n",
              " 'americana',\n",
              " 'anarchism',\n",
              " 'ancient',\n",
              " 'angels',\n",
              " 'animal-fiction',\n",
              " 'animals',\n",
              " 'anime',\n",
              " 'anthologies',\n",
              " 'anthropology',\n",
              " 'anthropomorphic',\n",
              " 'apocalyptic',\n",
              " 'architecture',\n",
              " 'art',\n",
              " 'art-history',\n",
              " 'arthurian',\n",
              " 'asia',\n",
              " 'asian-literature',\n",
              " 'astronomy',\n",
              " 'atheism',\n",
              " 'australia',\n",
              " 'autobiography',\n",
              " 'bande-dessin%C3%A9e',\n",
              " 'banned-books',\n",
              " 'baseball',\n",
              " 'basketball',\n",
              " 'batman',\n",
              " 'bdsm',\n",
              " 'beauty-and-the-beast',\n",
              " 'belgian',\n",
              " 'belgium',\n",
              " 'biography',\n",
              " 'biography-memoir',\n",
              " 'biology',\n",
              " 'birds',\n",
              " 'bizarro-fiction',\n",
              " 'boarding-school',\n",
              " 'book-club',\n",
              " 'books-about-books',\n",
              " 'brain',\n",
              " 'brazil',\n",
              " 'british-literature',\n",
              " 'buddhism',\n",
              " 'bulgaria',\n",
              " 'bulgarian-literature',\n",
              " 'business',\n",
              " 'canada',\n",
              " 'canadian-literature',\n",
              " 'canon',\n",
              " 'cartoon',\n",
              " 'category-romance',\n",
              " 'catholic',\n",
              " 'cats',\n",
              " 'chapter-books',\n",
              " 'chess',\n",
              " 'chick-lit',\n",
              " 'childrens',\n",
              " 'childrens-classics',\n",
              " 'china',\n",
              " 'chinese-literature',\n",
              " 'christian',\n",
              " 'christian-contemporary-fiction',\n",
              " 'christian-fiction',\n",
              " 'christian-historical-fiction',\n",
              " 'christian-romance',\n",
              " 'christianity',\n",
              " 'christmas',\n",
              " 'church',\n",
              " 'church-history',\n",
              " 'cities',\n",
              " 'civil-war',\n",
              " 'classic-literature',\n",
              " 'classical-studies',\n",
              " 'classics',\n",
              " 'clean-romance',\n",
              " 'collections',\n",
              " 'college',\n",
              " 'comedy',\n",
              " 'comic-book',\n",
              " 'comic-strips',\n",
              " 'comics',\n",
              " 'comics-manga',\n",
              " 'coming-of-age',\n",
              " 'comix',\n",
              " 'communication',\n",
              " 'computer-science',\n",
              " 'contemporary',\n",
              " 'contemporary-romance',\n",
              " 'cookbooks',\n",
              " 'cooking',\n",
              " 'counter-culture',\n",
              " 'cozy-mystery',\n",
              " 'crafts',\n",
              " 'crafty',\n",
              " 'crime',\n",
              " 'criticism',\n",
              " 'cthulhu-mythos',\n",
              " 'culinary',\n",
              " 'cult-classics',\n",
              " 'cults',\n",
              " 'cultural',\n",
              " 'culture',\n",
              " 'cyberpunk',\n",
              " 'cycling',\n",
              " 'czech-literature',\n",
              " 'danish',\n",
              " 'dark',\n",
              " 'dark-fantasy',\n",
              " 'dc-comics',\n",
              " 'death',\n",
              " 'demons',\n",
              " 'denmark',\n",
              " 'design',\n",
              " 'detective',\n",
              " 'diary',\n",
              " 'dictionaries',\n",
              " 'dinosaurs',\n",
              " 'disability',\n",
              " 'dogs',\n",
              " 'dragonlance',\n",
              " 'dragons',\n",
              " 'drama',\n",
              " 'drawing',\n",
              " 'dungeons-and-dragons',\n",
              " 'dutch-literature',\n",
              " 'dying-earth',\n",
              " 'dystopia',\n",
              " 'eastern-philosophy',\n",
              " 'ecology',\n",
              " 'economics',\n",
              " 'education',\n",
              " 'egypt',\n",
              " 'egyptian-literature',\n",
              " 'engineering',\n",
              " 'english-literature',\n",
              " 'environment',\n",
              " 'epic',\n",
              " 'epic-fantasy',\n",
              " 'epic-poetry',\n",
              " 'erotic-historical-romance',\n",
              " 'erotic-romance',\n",
              " 'erotica',\n",
              " 'esoterica',\n",
              " 'espionage',\n",
              " 'essays',\n",
              " 'european-history',\n",
              " 'european-literature',\n",
              " 'evolution',\n",
              " 'fables',\n",
              " 'fae',\n",
              " 'fairies',\n",
              " 'fairy-tale-retellings',\n",
              " 'fairy-tales',\n",
              " 'faith',\n",
              " 'family',\n",
              " 'fantasy',\n",
              " 'fantasy-romance',\n",
              " 'fat',\n",
              " 'fat-acceptance',\n",
              " 'fat-studies',\n",
              " 'favorites',\n",
              " 'female-authors',\n",
              " 'feminism',\n",
              " 'fiction',\n",
              " 'film',\n",
              " 'finnish-literature',\n",
              " 'fitness',\n",
              " 'folk-tales',\n",
              " 'folklore',\n",
              " 'food',\n",
              " 'food-and-drink',\n",
              " 'food-history',\n",
              " 'food-writing',\n",
              " 'foodie',\n",
              " 'football',\n",
              " 'forgotten-realms',\n",
              " 'france',\n",
              " 'french-literature',\n",
              " 'french-revolution',\n",
              " 'funny',\n",
              " 'games',\n",
              " 'gaming',\n",
              " 'gardening',\n",
              " 'gay',\n",
              " 'gay-for-you',\n",
              " 'gay-romance',\n",
              " 'gender',\n",
              " 'gender-studies',\n",
              " 'genetics',\n",
              " 'geography',\n",
              " 'georgian-romance',\n",
              " 'german-literature',\n",
              " 'germany',\n",
              " 'ghost-stories',\n",
              " 'ghosts',\n",
              " 'glbt',\n",
              " 'god',\n",
              " 'gods',\n",
              " 'gothic',\n",
              " 'gothic-horror',\n",
              " 'gothic-romance',\n",
              " 'government',\n",
              " 'graphic-novels',\n",
              " 'graphic-novels-comics',\n",
              " 'greece',\n",
              " 'greek-mythology',\n",
              " 'guides',\n",
              " 'hard-boiled',\n",
              " 'hard-science-fiction',\n",
              " 'harlequin',\n",
              " 'health',\n",
              " 'heroic-fantasy',\n",
              " 'high-fantasy',\n",
              " 'high-school',\n",
              " 'hinduism',\n",
              " 'historical-fiction',\n",
              " 'historical-mystery',\n",
              " 'historical-romance',\n",
              " 'history',\n",
              " 'history-of-science',\n",
              " 'holiday',\n",
              " 'holland',\n",
              " 'holocaust',\n",
              " 'horror',\n",
              " 'horse-racing',\n",
              " 'horses',\n",
              " 'how-to',\n",
              " 'humanities',\n",
              " 'humor',\n",
              " 'hungarian-literature',\n",
              " 'hungary',\n",
              " 'illness',\n",
              " 'india',\n",
              " 'indian-literature',\n",
              " 'indonesian-literature',\n",
              " 'inspirational',\n",
              " 'international',\n",
              " 'interracial-romance',\n",
              " 'iran',\n",
              " 'ireland',\n",
              " 'irish-literature',\n",
              " 'islam',\n",
              " 'israel',\n",
              " 'italian-literature',\n",
              " 'italy',\n",
              " 'japan',\n",
              " 'japanese-literature',\n",
              " 'jewish',\n",
              " 'josei',\n",
              " 'journal',\n",
              " 'journalism',\n",
              " 'judaism',\n",
              " 'juvenile',\n",
              " 'kenya',\n",
              " 'kids',\n",
              " 'komik',\n",
              " 'language',\n",
              " 'latin-american',\n",
              " 'latin-american-literature',\n",
              " 'law',\n",
              " 'lds',\n",
              " 'lds-fiction',\n",
              " 'lds-non-fiction',\n",
              " 'leadership',\n",
              " 'legal-thriller',\n",
              " 'lesbian',\n",
              " 'lesbian-fiction',\n",
              " 'light-novel',\n",
              " 'literary-criticism',\n",
              " 'literary-fiction',\n",
              " 'literature',\n",
              " 'logic',\n",
              " 'love',\n",
              " 'love-inspired',\n",
              " 'love-inspired-historical',\n",
              " 'love-story',\n",
              " 'lovecraftian',\n",
              " 'low-fantasy',\n",
              " 'm-f-m',\n",
              " 'm-m-romance',\n",
              " 'magic',\n",
              " 'magical-realism',\n",
              " 'management',\n",
              " 'manga',\n",
              " 'maritime',\n",
              " 'marriage',\n",
              " 'marvel',\n",
              " 'mathematics',\n",
              " 'media-tie-in',\n",
              " 'medical',\n",
              " 'medicine',\n",
              " 'medieval',\n",
              " 'medieval-romance',\n",
              " 'memoir',\n",
              " 'menage',\n",
              " 'mental-health',\n",
              " 'mental-illness',\n",
              " 'mermaids',\n",
              " 'metaphysics',\n",
              " 'middle-grade',\n",
              " 'military',\n",
              " 'military-history',\n",
              " 'military-science-fiction',\n",
              " 'mine',\n",
              " 'modern',\n",
              " 'modern-classics',\n",
              " 'mormonism',\n",
              " 'mountaineering',\n",
              " 'movies',\n",
              " 'murder-mystery',\n",
              " 'music',\n",
              " 'musicians',\n",
              " 'mystery',\n",
              " 'mystery-thriller',\n",
              " 'mysticism',\n",
              " 'mythology',\n",
              " 'natural-history',\n",
              " 'nature',\n",
              " 'near-future',\n",
              " 'neuroscience',\n",
              " 'new-adult',\n",
              " 'new-age',\n",
              " 'new-weird',\n",
              " 'new-york',\n",
              " 'nobel-prize',\n",
              " 'noir',\n",
              " 'non-fiction',\n",
              " 'novels',\n",
              " 'nutrition',\n",
              " 'occult',\n",
              " 'outdoors',\n",
              " 'paganism',\n",
              " 'pakistan',\n",
              " 'paranormal',\n",
              " 'paranormal-romance',\n",
              " 'parenting',\n",
              " 'personal-development',\n",
              " 'philosophy',\n",
              " 'photography',\n",
              " 'physics',\n",
              " 'picture-books',\n",
              " 'pirates',\n",
              " 'planetary-romance',\n",
              " 'plays',\n",
              " 'poetry',\n",
              " 'poetry-plays',\n",
              " 'poland',\n",
              " 'polish-literature',\n",
              " 'political-science',\n",
              " 'politics',\n",
              " 'pop-culture',\n",
              " 'popular-science',\n",
              " 'portugal',\n",
              " 'portuguese-literature',\n",
              " 'post-apocalyptic',\n",
              " 'post-colonial',\n",
              " 'poverty',\n",
              " 'prehistoric',\n",
              " 'prehistory',\n",
              " 'presidents',\n",
              " 'princesses',\n",
              " 'productivity',\n",
              " 'psychological-thriller',\n",
              " 'psychology',\n",
              " 'pulp',\n",
              " 'queer',\n",
              " 'queer-lit',\n",
              " 'rabbits',\n",
              " 'race',\n",
              " 'read-for-school',\n",
              " 'realistic-fiction',\n",
              " 'reference',\n",
              " 'regency',\n",
              " 'regency-romance',\n",
              " 'relationships',\n",
              " 'religion',\n",
              " 'retellings',\n",
              " 'road-trip',\n",
              " 'robots',\n",
              " 'rock-n-roll',\n",
              " 'role-playing-games',\n",
              " 'roman',\n",
              " 'romance',\n",
              " 'romania',\n",
              " 'romanian-literature',\n",
              " 'romantic',\n",
              " 'romantic-suspense',\n",
              " 'russia',\n",
              " 'russian-literature',\n",
              " 'satanism',\n",
              " 'scandinavian-literature',\n",
              " 'school',\n",
              " 'school-stories',\n",
              " 'sci-fi-fantasy',\n",
              " 'science',\n",
              " 'science-fiction',\n",
              " 'science-fiction-fantasy',\n",
              " 'science-fiction-romance',\n",
              " 'scotland',\n",
              " 'scripture',\n",
              " 'self-help',\n",
              " 'sequential-art',\n",
              " 'serbian-literature',\n",
              " 'sexuality',\n",
              " 'shapeshifters',\n",
              " 'shojo',\n",
              " 'shonen',\n",
              " 'short-stories',\n",
              " 'short-story-collection',\n",
              " 'skepticism',\n",
              " 'slice-of-life',\n",
              " 'social',\n",
              " 'social-issues',\n",
              " 'social-justice',\n",
              " 'social-movements',\n",
              " 'social-science',\n",
              " 'society',\n",
              " 'sociology',\n",
              " 'soldiers',\n",
              " 'southern',\n",
              " 'southern-gothic',\n",
              " 'space',\n",
              " 'space-opera',\n",
              " 'spain',\n",
              " 'spanish-literature',\n",
              " 'speculative-fiction',\n",
              " 'spirituality',\n",
              " 'splatterpunk',\n",
              " 'sports',\n",
              " 'sports-and-games',\n",
              " 'sports-romance',\n",
              " 'spy-thriller',\n",
              " 'star-wars',\n",
              " 'steampunk',\n",
              " 'storytime',\n",
              " 'superheroes',\n",
              " 'superman',\n",
              " 'supernatural',\n",
              " 'surreal',\n",
              " 'survival',\n",
              " 'suspense',\n",
              " 'sustainability',\n",
              " 'swashbuckling',\n",
              " 'sweden',\n",
              " 'swedish-literature',\n",
              " 'sword-and-sorcery',\n",
              " 'taoism',\n",
              " 'tasmania',\n",
              " 'teachers',\n",
              " 'teaching',\n",
              " 'technical',\n",
              " 'technology',\n",
              " 'teen',\n",
              " 'terrorism',\n",
              " 'textbooks',\n",
              " 'theatre',\n",
              " 'theology',\n",
              " 'theory',\n",
              " 'thriller',\n",
              " 'time-travel',\n",
              " 'time-travel-romance',\n",
              " 'tragedy',\n",
              " 'trans',\n",
              " 'transgender',\n",
              " 'travel',\n",
              " 'travelogue',\n",
              " 'true-crime',\n",
              " 'true-story',\n",
              " 'turkish',\n",
              " 'turkish-literature',\n",
              " 'ukraine',\n",
              " 'unicorns',\n",
              " 'united-states',\n",
              " 'urban-fantasy',\n",
              " 'urban-planning',\n",
              " 'urbanism',\n",
              " 'us-presidents',\n",
              " 'utopia',\n",
              " 'vampires',\n",
              " 'vegan',\n",
              " 'video-games',\n",
              " 'walking',\n",
              " 'war',\n",
              " 'weird-fiction',\n",
              " 'werewolves',\n",
              " 'western',\n",
              " 'western-romance',\n",
              " 'wicca',\n",
              " 'wilderness',\n",
              " 'wildlife',\n",
              " 'witches',\n",
              " 'wizards',\n",
              " 'wolves',\n",
              " 'womens',\n",
              " 'womens-fiction',\n",
              " 'womens-studies',\n",
              " 'world-history',\n",
              " 'world-war-ii',\n",
              " 'writing',\n",
              " 'x-men',\n",
              " 'young-adult',\n",
              " 'young-adult-contemporary',\n",
              " 'young-adult-fantasy',\n",
              " 'young-adult-historical-fiction',\n",
              " 'young-adult-paranormal',\n",
              " 'young-adult-romance',\n",
              " 'young-adult-science-fiction',\n",
              " 'young-readers',\n",
              " 'zen',\n",
              " 'zombies']"
            ]
          },
          "metadata": {
            "tags": []
          },
          "execution_count": 27
        }
      ]
    },
    {
      "cell_type": "markdown",
      "metadata": {
        "id": "eYjEF0nyMnYc",
        "colab_type": "text"
      },
      "source": [
        "What happens if we add a column to the dataframe for each genre? \n",
        "Is this way of representing genre efficient? Allows for easy computation and visualization?\n",
        "Are there other ways to represent genre information in the dataframe that allow for each visualization?"
      ]
    },
    {
      "cell_type": "code",
      "metadata": {
        "id": "Xv8w8iu5MnYc",
        "colab_type": "code",
        "colab": {
          "base_uri": "https://localhost:8080/",
          "height": 508
        },
        "outputId": "19d8909f-69f0-45e6-d773-9a12784b009f"
      },
      "source": [
        "#Add a column for each genre\n",
        "for genre in genres:\n",
        "    data[\"genre:\"+genre] = [genre in g.split('|') for g in data.genres]\n",
        "         \n",
        "data.head()"
      ],
      "execution_count": 28,
      "outputs": [
        {
          "output_type": "execute_result",
          "data": {
            "text/html": [
              "<div>\n",
              "<style scoped>\n",
              "    .dataframe tbody tr th:only-of-type {\n",
              "        vertical-align: middle;\n",
              "    }\n",
              "\n",
              "    .dataframe tbody tr th {\n",
              "        vertical-align: top;\n",
              "    }\n",
              "\n",
              "    .dataframe thead th {\n",
              "        text-align: right;\n",
              "    }\n",
              "</style>\n",
              "<table border=\"1\" class=\"dataframe\">\n",
              "  <thead>\n",
              "    <tr style=\"text-align: right;\">\n",
              "      <th></th>\n",
              "      <th>rating</th>\n",
              "      <th>review_count</th>\n",
              "      <th>isbn</th>\n",
              "      <th>booktype</th>\n",
              "      <th>author_url</th>\n",
              "      <th>year</th>\n",
              "      <th>genre_urls</th>\n",
              "      <th>dir</th>\n",
              "      <th>rating_count</th>\n",
              "      <th>name</th>\n",
              "      <th>author</th>\n",
              "      <th>genres</th>\n",
              "      <th>genre:</th>\n",
              "      <th>genre:14th-century</th>\n",
              "      <th>genre:15th-century</th>\n",
              "      <th>genre:16th-century</th>\n",
              "      <th>genre:17th-century</th>\n",
              "      <th>genre:18th-century</th>\n",
              "      <th>genre:19th-century</th>\n",
              "      <th>genre:20th-century</th>\n",
              "      <th>genre:abuse</th>\n",
              "      <th>genre:academia</th>\n",
              "      <th>genre:academic</th>\n",
              "      <th>genre:action</th>\n",
              "      <th>genre:activism</th>\n",
              "      <th>genre:adolescence</th>\n",
              "      <th>genre:adoption</th>\n",
              "      <th>genre:adult</th>\n",
              "      <th>genre:adult-fiction</th>\n",
              "      <th>genre:adventure</th>\n",
              "      <th>genre:africa</th>\n",
              "      <th>genre:african-american</th>\n",
              "      <th>genre:african-american-literature</th>\n",
              "      <th>genre:african-literature</th>\n",
              "      <th>genre:aliens</th>\n",
              "      <th>genre:alternate-history</th>\n",
              "      <th>genre:american</th>\n",
              "      <th>genre:american-civil-war</th>\n",
              "      <th>genre:american-fiction</th>\n",
              "      <th>genre:american-history</th>\n",
              "      <th>...</th>\n",
              "      <th>genre:ukraine</th>\n",
              "      <th>genre:unicorns</th>\n",
              "      <th>genre:united-states</th>\n",
              "      <th>genre:urban-fantasy</th>\n",
              "      <th>genre:urban-planning</th>\n",
              "      <th>genre:urbanism</th>\n",
              "      <th>genre:us-presidents</th>\n",
              "      <th>genre:utopia</th>\n",
              "      <th>genre:vampires</th>\n",
              "      <th>genre:vegan</th>\n",
              "      <th>genre:video-games</th>\n",
              "      <th>genre:walking</th>\n",
              "      <th>genre:war</th>\n",
              "      <th>genre:weird-fiction</th>\n",
              "      <th>genre:werewolves</th>\n",
              "      <th>genre:western</th>\n",
              "      <th>genre:western-romance</th>\n",
              "      <th>genre:wicca</th>\n",
              "      <th>genre:wilderness</th>\n",
              "      <th>genre:wildlife</th>\n",
              "      <th>genre:witches</th>\n",
              "      <th>genre:wizards</th>\n",
              "      <th>genre:wolves</th>\n",
              "      <th>genre:womens</th>\n",
              "      <th>genre:womens-fiction</th>\n",
              "      <th>genre:womens-studies</th>\n",
              "      <th>genre:world-history</th>\n",
              "      <th>genre:world-war-ii</th>\n",
              "      <th>genre:writing</th>\n",
              "      <th>genre:x-men</th>\n",
              "      <th>genre:young-adult</th>\n",
              "      <th>genre:young-adult-contemporary</th>\n",
              "      <th>genre:young-adult-fantasy</th>\n",
              "      <th>genre:young-adult-historical-fiction</th>\n",
              "      <th>genre:young-adult-paranormal</th>\n",
              "      <th>genre:young-adult-romance</th>\n",
              "      <th>genre:young-adult-science-fiction</th>\n",
              "      <th>genre:young-readers</th>\n",
              "      <th>genre:zen</th>\n",
              "      <th>genre:zombies</th>\n",
              "    </tr>\n",
              "  </thead>\n",
              "  <tbody>\n",
              "    <tr>\n",
              "      <th>0</th>\n",
              "      <td>4.40</td>\n",
              "      <td>136455</td>\n",
              "      <td>0439023483</td>\n",
              "      <td>good_reads:book</td>\n",
              "      <td>https://www.goodreads.com/author/show/153394.S...</td>\n",
              "      <td>2008</td>\n",
              "      <td>/genres/young-adult|/genres/science-fiction|/g...</td>\n",
              "      <td>dir01/2767052-the-hunger-games.html</td>\n",
              "      <td>2958974</td>\n",
              "      <td>The Hunger Games (The Hunger Games, #1)</td>\n",
              "      <td>Suzanne_Collins</td>\n",
              "      <td>young-adult|science-fiction|dystopia|fantasy|s...</td>\n",
              "      <td>False</td>\n",
              "      <td>False</td>\n",
              "      <td>False</td>\n",
              "      <td>False</td>\n",
              "      <td>False</td>\n",
              "      <td>False</td>\n",
              "      <td>False</td>\n",
              "      <td>False</td>\n",
              "      <td>False</td>\n",
              "      <td>False</td>\n",
              "      <td>False</td>\n",
              "      <td>True</td>\n",
              "      <td>False</td>\n",
              "      <td>False</td>\n",
              "      <td>False</td>\n",
              "      <td>False</td>\n",
              "      <td>False</td>\n",
              "      <td>True</td>\n",
              "      <td>False</td>\n",
              "      <td>False</td>\n",
              "      <td>False</td>\n",
              "      <td>False</td>\n",
              "      <td>False</td>\n",
              "      <td>False</td>\n",
              "      <td>False</td>\n",
              "      <td>False</td>\n",
              "      <td>False</td>\n",
              "      <td>False</td>\n",
              "      <td>...</td>\n",
              "      <td>False</td>\n",
              "      <td>False</td>\n",
              "      <td>False</td>\n",
              "      <td>False</td>\n",
              "      <td>False</td>\n",
              "      <td>False</td>\n",
              "      <td>False</td>\n",
              "      <td>False</td>\n",
              "      <td>False</td>\n",
              "      <td>False</td>\n",
              "      <td>False</td>\n",
              "      <td>False</td>\n",
              "      <td>False</td>\n",
              "      <td>False</td>\n",
              "      <td>False</td>\n",
              "      <td>False</td>\n",
              "      <td>False</td>\n",
              "      <td>False</td>\n",
              "      <td>False</td>\n",
              "      <td>False</td>\n",
              "      <td>False</td>\n",
              "      <td>False</td>\n",
              "      <td>False</td>\n",
              "      <td>False</td>\n",
              "      <td>False</td>\n",
              "      <td>False</td>\n",
              "      <td>False</td>\n",
              "      <td>False</td>\n",
              "      <td>False</td>\n",
              "      <td>False</td>\n",
              "      <td>True</td>\n",
              "      <td>False</td>\n",
              "      <td>False</td>\n",
              "      <td>False</td>\n",
              "      <td>False</td>\n",
              "      <td>False</td>\n",
              "      <td>False</td>\n",
              "      <td>False</td>\n",
              "      <td>False</td>\n",
              "      <td>False</td>\n",
              "    </tr>\n",
              "    <tr>\n",
              "      <th>1</th>\n",
              "      <td>4.41</td>\n",
              "      <td>16648</td>\n",
              "      <td>0439358078</td>\n",
              "      <td>good_reads:book</td>\n",
              "      <td>https://www.goodreads.com/author/show/1077326....</td>\n",
              "      <td>2003</td>\n",
              "      <td>/genres/fantasy|/genres/young-adult|/genres/fi...</td>\n",
              "      <td>dir01/2.Harry_Potter_and_the_Order_of_the_Phoe...</td>\n",
              "      <td>1284478</td>\n",
              "      <td>Harry Potter and the Order of the Phoenix (Har...</td>\n",
              "      <td>J_K_Rowling</td>\n",
              "      <td>fantasy|young-adult|fiction|fantasy|magic|chil...</td>\n",
              "      <td>False</td>\n",
              "      <td>False</td>\n",
              "      <td>False</td>\n",
              "      <td>False</td>\n",
              "      <td>False</td>\n",
              "      <td>False</td>\n",
              "      <td>False</td>\n",
              "      <td>False</td>\n",
              "      <td>False</td>\n",
              "      <td>False</td>\n",
              "      <td>False</td>\n",
              "      <td>False</td>\n",
              "      <td>False</td>\n",
              "      <td>False</td>\n",
              "      <td>False</td>\n",
              "      <td>False</td>\n",
              "      <td>False</td>\n",
              "      <td>True</td>\n",
              "      <td>False</td>\n",
              "      <td>False</td>\n",
              "      <td>False</td>\n",
              "      <td>False</td>\n",
              "      <td>False</td>\n",
              "      <td>False</td>\n",
              "      <td>False</td>\n",
              "      <td>False</td>\n",
              "      <td>False</td>\n",
              "      <td>False</td>\n",
              "      <td>...</td>\n",
              "      <td>False</td>\n",
              "      <td>False</td>\n",
              "      <td>False</td>\n",
              "      <td>False</td>\n",
              "      <td>False</td>\n",
              "      <td>False</td>\n",
              "      <td>False</td>\n",
              "      <td>False</td>\n",
              "      <td>False</td>\n",
              "      <td>False</td>\n",
              "      <td>False</td>\n",
              "      <td>False</td>\n",
              "      <td>False</td>\n",
              "      <td>False</td>\n",
              "      <td>False</td>\n",
              "      <td>False</td>\n",
              "      <td>False</td>\n",
              "      <td>False</td>\n",
              "      <td>False</td>\n",
              "      <td>False</td>\n",
              "      <td>False</td>\n",
              "      <td>False</td>\n",
              "      <td>False</td>\n",
              "      <td>False</td>\n",
              "      <td>False</td>\n",
              "      <td>False</td>\n",
              "      <td>False</td>\n",
              "      <td>False</td>\n",
              "      <td>False</td>\n",
              "      <td>False</td>\n",
              "      <td>True</td>\n",
              "      <td>False</td>\n",
              "      <td>False</td>\n",
              "      <td>False</td>\n",
              "      <td>False</td>\n",
              "      <td>False</td>\n",
              "      <td>False</td>\n",
              "      <td>False</td>\n",
              "      <td>False</td>\n",
              "      <td>False</td>\n",
              "    </tr>\n",
              "    <tr>\n",
              "      <th>2</th>\n",
              "      <td>3.56</td>\n",
              "      <td>85746</td>\n",
              "      <td>0316015849</td>\n",
              "      <td>good_reads:book</td>\n",
              "      <td>https://www.goodreads.com/author/show/941441.S...</td>\n",
              "      <td>2005</td>\n",
              "      <td>/genres/young-adult|/genres/fantasy|/genres/ro...</td>\n",
              "      <td>dir01/41865.Twilight.html</td>\n",
              "      <td>2579564</td>\n",
              "      <td>Twilight (Twilight, #1)</td>\n",
              "      <td>Stephenie_Meyer</td>\n",
              "      <td>young-adult|fantasy|romance|paranormal|vampire...</td>\n",
              "      <td>False</td>\n",
              "      <td>False</td>\n",
              "      <td>False</td>\n",
              "      <td>False</td>\n",
              "      <td>False</td>\n",
              "      <td>False</td>\n",
              "      <td>False</td>\n",
              "      <td>False</td>\n",
              "      <td>False</td>\n",
              "      <td>False</td>\n",
              "      <td>False</td>\n",
              "      <td>False</td>\n",
              "      <td>False</td>\n",
              "      <td>False</td>\n",
              "      <td>False</td>\n",
              "      <td>False</td>\n",
              "      <td>False</td>\n",
              "      <td>False</td>\n",
              "      <td>False</td>\n",
              "      <td>False</td>\n",
              "      <td>False</td>\n",
              "      <td>False</td>\n",
              "      <td>False</td>\n",
              "      <td>False</td>\n",
              "      <td>False</td>\n",
              "      <td>False</td>\n",
              "      <td>False</td>\n",
              "      <td>False</td>\n",
              "      <td>...</td>\n",
              "      <td>False</td>\n",
              "      <td>False</td>\n",
              "      <td>False</td>\n",
              "      <td>True</td>\n",
              "      <td>False</td>\n",
              "      <td>False</td>\n",
              "      <td>False</td>\n",
              "      <td>False</td>\n",
              "      <td>True</td>\n",
              "      <td>False</td>\n",
              "      <td>False</td>\n",
              "      <td>False</td>\n",
              "      <td>False</td>\n",
              "      <td>False</td>\n",
              "      <td>False</td>\n",
              "      <td>False</td>\n",
              "      <td>False</td>\n",
              "      <td>False</td>\n",
              "      <td>False</td>\n",
              "      <td>False</td>\n",
              "      <td>False</td>\n",
              "      <td>False</td>\n",
              "      <td>False</td>\n",
              "      <td>False</td>\n",
              "      <td>False</td>\n",
              "      <td>False</td>\n",
              "      <td>False</td>\n",
              "      <td>False</td>\n",
              "      <td>False</td>\n",
              "      <td>False</td>\n",
              "      <td>True</td>\n",
              "      <td>False</td>\n",
              "      <td>False</td>\n",
              "      <td>False</td>\n",
              "      <td>False</td>\n",
              "      <td>False</td>\n",
              "      <td>False</td>\n",
              "      <td>False</td>\n",
              "      <td>False</td>\n",
              "      <td>False</td>\n",
              "    </tr>\n",
              "    <tr>\n",
              "      <th>3</th>\n",
              "      <td>4.23</td>\n",
              "      <td>47906</td>\n",
              "      <td>0061120081</td>\n",
              "      <td>good_reads:book</td>\n",
              "      <td>https://www.goodreads.com/author/show/1825.Har...</td>\n",
              "      <td>1960</td>\n",
              "      <td>/genres/classics|/genres/fiction|/genres/histo...</td>\n",
              "      <td>dir01/2657.To_Kill_a_Mockingbird.html</td>\n",
              "      <td>2078123</td>\n",
              "      <td>To Kill a Mockingbird</td>\n",
              "      <td>Harper_Lee</td>\n",
              "      <td>classics|fiction|historical-fiction|academic|s...</td>\n",
              "      <td>False</td>\n",
              "      <td>False</td>\n",
              "      <td>False</td>\n",
              "      <td>False</td>\n",
              "      <td>False</td>\n",
              "      <td>False</td>\n",
              "      <td>False</td>\n",
              "      <td>False</td>\n",
              "      <td>False</td>\n",
              "      <td>False</td>\n",
              "      <td>True</td>\n",
              "      <td>False</td>\n",
              "      <td>False</td>\n",
              "      <td>False</td>\n",
              "      <td>False</td>\n",
              "      <td>False</td>\n",
              "      <td>False</td>\n",
              "      <td>False</td>\n",
              "      <td>False</td>\n",
              "      <td>False</td>\n",
              "      <td>False</td>\n",
              "      <td>False</td>\n",
              "      <td>False</td>\n",
              "      <td>False</td>\n",
              "      <td>False</td>\n",
              "      <td>False</td>\n",
              "      <td>False</td>\n",
              "      <td>False</td>\n",
              "      <td>...</td>\n",
              "      <td>False</td>\n",
              "      <td>False</td>\n",
              "      <td>False</td>\n",
              "      <td>False</td>\n",
              "      <td>False</td>\n",
              "      <td>False</td>\n",
              "      <td>False</td>\n",
              "      <td>False</td>\n",
              "      <td>False</td>\n",
              "      <td>False</td>\n",
              "      <td>False</td>\n",
              "      <td>False</td>\n",
              "      <td>False</td>\n",
              "      <td>False</td>\n",
              "      <td>False</td>\n",
              "      <td>False</td>\n",
              "      <td>False</td>\n",
              "      <td>False</td>\n",
              "      <td>False</td>\n",
              "      <td>False</td>\n",
              "      <td>False</td>\n",
              "      <td>False</td>\n",
              "      <td>False</td>\n",
              "      <td>False</td>\n",
              "      <td>False</td>\n",
              "      <td>False</td>\n",
              "      <td>False</td>\n",
              "      <td>False</td>\n",
              "      <td>False</td>\n",
              "      <td>False</td>\n",
              "      <td>True</td>\n",
              "      <td>False</td>\n",
              "      <td>False</td>\n",
              "      <td>False</td>\n",
              "      <td>False</td>\n",
              "      <td>False</td>\n",
              "      <td>False</td>\n",
              "      <td>False</td>\n",
              "      <td>False</td>\n",
              "      <td>False</td>\n",
              "    </tr>\n",
              "    <tr>\n",
              "      <th>4</th>\n",
              "      <td>4.23</td>\n",
              "      <td>34772</td>\n",
              "      <td>0679783261</td>\n",
              "      <td>good_reads:book</td>\n",
              "      <td>https://www.goodreads.com/author/show/1265.Jan...</td>\n",
              "      <td>1813</td>\n",
              "      <td>/genres/classics|/genres/fiction|/genres/roman...</td>\n",
              "      <td>dir01/1885.Pride_and_Prejudice.html</td>\n",
              "      <td>1388992</td>\n",
              "      <td>Pride and Prejudice</td>\n",
              "      <td>Jane_Austen</td>\n",
              "      <td>classics|fiction|romance|historical-fiction|li...</td>\n",
              "      <td>False</td>\n",
              "      <td>False</td>\n",
              "      <td>False</td>\n",
              "      <td>False</td>\n",
              "      <td>False</td>\n",
              "      <td>False</td>\n",
              "      <td>False</td>\n",
              "      <td>False</td>\n",
              "      <td>False</td>\n",
              "      <td>False</td>\n",
              "      <td>True</td>\n",
              "      <td>False</td>\n",
              "      <td>False</td>\n",
              "      <td>False</td>\n",
              "      <td>False</td>\n",
              "      <td>True</td>\n",
              "      <td>False</td>\n",
              "      <td>False</td>\n",
              "      <td>False</td>\n",
              "      <td>False</td>\n",
              "      <td>False</td>\n",
              "      <td>False</td>\n",
              "      <td>False</td>\n",
              "      <td>False</td>\n",
              "      <td>False</td>\n",
              "      <td>False</td>\n",
              "      <td>False</td>\n",
              "      <td>False</td>\n",
              "      <td>...</td>\n",
              "      <td>False</td>\n",
              "      <td>False</td>\n",
              "      <td>False</td>\n",
              "      <td>False</td>\n",
              "      <td>False</td>\n",
              "      <td>False</td>\n",
              "      <td>False</td>\n",
              "      <td>False</td>\n",
              "      <td>False</td>\n",
              "      <td>False</td>\n",
              "      <td>False</td>\n",
              "      <td>False</td>\n",
              "      <td>False</td>\n",
              "      <td>False</td>\n",
              "      <td>False</td>\n",
              "      <td>False</td>\n",
              "      <td>False</td>\n",
              "      <td>False</td>\n",
              "      <td>False</td>\n",
              "      <td>False</td>\n",
              "      <td>False</td>\n",
              "      <td>False</td>\n",
              "      <td>False</td>\n",
              "      <td>False</td>\n",
              "      <td>False</td>\n",
              "      <td>False</td>\n",
              "      <td>False</td>\n",
              "      <td>False</td>\n",
              "      <td>False</td>\n",
              "      <td>False</td>\n",
              "      <td>False</td>\n",
              "      <td>False</td>\n",
              "      <td>False</td>\n",
              "      <td>False</td>\n",
              "      <td>False</td>\n",
              "      <td>False</td>\n",
              "      <td>False</td>\n",
              "      <td>False</td>\n",
              "      <td>False</td>\n",
              "      <td>False</td>\n",
              "    </tr>\n",
              "  </tbody>\n",
              "</table>\n",
              "<p>5 rows × 550 columns</p>\n",
              "</div>"
            ],
            "text/plain": [
              "   rating  review_count  ... genre:zen genre:zombies\n",
              "0    4.40        136455  ...     False         False\n",
              "1    4.41         16648  ...     False         False\n",
              "2    3.56         85746  ...     False         False\n",
              "3    4.23         47906  ...     False         False\n",
              "4    4.23         34772  ...     False         False\n",
              "\n",
              "[5 rows x 550 columns]"
            ]
          },
          "metadata": {
            "tags": []
          },
          "execution_count": 28
        }
      ]
    },
    {
      "cell_type": "markdown",
      "metadata": {
        "id": "VyULc77VMnYe",
        "colab_type": "text"
      },
      "source": [
        "As we see, the dataframe explodes horizontally."
      ]
    },
    {
      "cell_type": "code",
      "metadata": {
        "id": "MLwjsXF-MnYf",
        "colab_type": "code",
        "colab": {
          "base_uri": "https://localhost:8080/",
          "height": 34
        },
        "outputId": "bed4f989-f0e6-4aed-934b-f42ddebfe46a"
      },
      "source": [
        "data.shape"
      ],
      "execution_count": 29,
      "outputs": [
        {
          "output_type": "execute_result",
          "data": {
            "text/plain": [
              "(5993, 550)"
            ]
          },
          "metadata": {
            "tags": []
          },
          "execution_count": 29
        }
      ]
    },
    {
      "cell_type": "markdown",
      "metadata": {
        "id": "TegkEyOSMnYh",
        "colab_type": "text"
      },
      "source": [
        "This is an \"encoding\" change. Genres are a categorical variable. What we have done is created a  **One Hot Encoding** where we have transformed to a True-False (1-0) encoding, or what is known as an **Indicator** variable. These are used all the time in Machine learning. \n",
        "Now explore some ways to visualize the genres represented in the dataframe. \n",
        "For example, you might ask which is the most represented genre.\n",
        "The highest represented genres are shown below."
      ]
    },
    {
      "cell_type": "code",
      "metadata": {
        "id": "y4AM-d08MnYi",
        "colab_type": "code",
        "colab": {}
      },
      "source": [
        "genreslist = ['genre:'+g for g in genres]\n",
        "dfg = data[genreslist].sum() # True's sum as 1's, and default sum is columnwise"
      ],
      "execution_count": 0,
      "outputs": []
    },
    {
      "cell_type": "code",
      "metadata": {
        "id": "kQ7-pDtwMnYk",
        "colab_type": "code",
        "colab": {
          "base_uri": "https://localhost:8080/",
          "height": 221
        },
        "outputId": "cbc0597b-2fca-4810-c57d-f347b659b6ed"
      },
      "source": [
        "dfg.sort_values(ascending=False)"
      ],
      "execution_count": 31,
      "outputs": [
        {
          "output_type": "execute_result",
          "data": {
            "text/plain": [
              "genre:fiction               4362\n",
              "genre:fantasy               2742\n",
              "genre:romance               2228\n",
              "genre:young-adult           2132\n",
              "genre:literature            1609\n",
              "                            ... \n",
              "genre:holland                  1\n",
              "genre:history-of-science       1\n",
              "genre:cycling                  1\n",
              "genre:scripture                1\n",
              "genre:fat-studies              1\n",
              "Length: 538, dtype: int64"
            ]
          },
          "metadata": {
            "tags": []
          },
          "execution_count": 31
        }
      ]
    },
    {
      "cell_type": "code",
      "metadata": {
        "id": "POdK8NCYMnYm",
        "colab_type": "code",
        "colab": {
          "base_uri": "https://localhost:8080/",
          "height": 439
        },
        "outputId": "3200aaf7-dc14-4c86-c866-61bdbbe3967d"
      },
      "source": [
        "dfg.sort_values(ascending=False).plot(kind = \"bar\");\n"
      ],
      "execution_count": 32,
      "outputs": [
        {
          "output_type": "display_data",
          "data": {
            "image/png": "[encoded data removed]",
            "text/plain": [
              "<Figure size 432x288 with 1 Axes>"
            ]
          },
          "metadata": {
            "tags": []
          }
        }
      ]
    },
    {
      "cell_type": "code",
      "metadata": {
        "scrolled": true,
        "id": "iOJ4aCkEMnYo",
        "colab_type": "code",
        "colab": {
          "base_uri": "https://localhost:8080/",
          "height": 385
        },
        "outputId": "ad786797-3a86-4f56-c2f6-ee5351eed9b4"
      },
      "source": [
        "# The above histogram looks very clumsy!\n",
        "# so now view less data\n",
        "dfg.sort_values(ascending=False).iloc[0:20].plot(kind = \"bar\");"
      ],
      "execution_count": 33,
      "outputs": [
        {
          "output_type": "display_data",
          "data": {
            "image/png": "[encoded data removed]",
            "text/plain": [
              "<Figure size 432x288 with 1 Axes>"
            ]
          },
          "metadata": {
            "tags": []
          }
        }
      ]
    },
    {
      "cell_type": "code",
      "metadata": {
        "id": "SSso1-wDMnYq",
        "colab_type": "code",
        "colab": {
          "base_uri": "https://localhost:8080/",
          "height": 204
        },
        "outputId": "15f5670c-1a58-49df-f923-64ef9618444d"
      },
      "source": [
        "dfg.sort_values(ascending=False)[0:10]"
      ],
      "execution_count": 34,
      "outputs": [
        {
          "output_type": "execute_result",
          "data": {
            "text/plain": [
              "genre:fiction         4362\n",
              "genre:fantasy         2742\n",
              "genre:romance         2228\n",
              "genre:young-adult     2132\n",
              "genre:literature      1609\n",
              "genre:classics        1584\n",
              "genre:novels          1487\n",
              "genre:contemporary    1309\n",
              "genre:adult           1211\n",
              "genre:paranormal      1201\n",
              "dtype: int64"
            ]
          },
          "metadata": {
            "tags": []
          },
          "execution_count": 34
        }
      ]
    },
    {
      "cell_type": "markdown",
      "metadata": {
        "id": "yhqXS0h3MnYs",
        "colab_type": "text"
      },
      "source": [
        "Let's look at the most frequent genres by years. We create a visualization called a  *Small Multiples* plot, which shows the yearly histograms for multiple variables. \n",
        "We limit the visualization to the genres that contain more than 550 books."
      ]
    },
    {
      "cell_type": "code",
      "metadata": {
        "id": "zDYyyF4RMnYt",
        "colab_type": "code",
        "colab": {
          "base_uri": "https://localhost:8080/",
          "height": 221
        },
        "outputId": "5f2f51fa-975b-4606-e388-a6839781dbfc"
      },
      "source": [
        "genres_wanted=dfg.index[dfg.values > 550]\n",
        "print(genres_wanted.shape)\n",
        "genres_wanted"
      ],
      "execution_count": 35,
      "outputs": [
        {
          "output_type": "stream",
          "text": [
            "(30,)\n"
          ],
          "name": "stdout"
        },
        {
          "output_type": "execute_result",
          "data": {
            "text/plain": [
              "Index(['genre:adult', 'genre:adult-fiction', 'genre:adventure',\n",
              "       'genre:book-club', 'genre:chick-lit', 'genre:childrens',\n",
              "       'genre:classics', 'genre:contemporary', 'genre:cultural',\n",
              "       'genre:european-literature', 'genre:fantasy', 'genre:fiction',\n",
              "       'genre:historical-fiction', 'genre:humor', 'genre:literature',\n",
              "       'genre:magic', 'genre:mystery', 'genre:non-fiction', 'genre:novels',\n",
              "       'genre:paranormal', 'genre:paranormal-romance', 'genre:romance',\n",
              "       'genre:science-fiction', 'genre:science-fiction-fantasy',\n",
              "       'genre:supernatural', 'genre:teen', 'genre:thriller',\n",
              "       'genre:urban-fantasy', 'genre:womens-fiction', 'genre:young-adult'],\n",
              "      dtype='object')"
            ]
          },
          "metadata": {
            "tags": []
          },
          "execution_count": 35
        }
      ]
    },
    {
      "cell_type": "markdown",
      "metadata": {
        "id": "d1EsL31kMnYv",
        "colab_type": "text"
      },
      "source": [
        "For each genre, we collect the years for which this genre's column is true and make a set of histograms. We fix our bins and plot the histograms against a grey histogram for the general increase in books in our dataset per year.\n",
        "\n",
        "Here we illustrate using axis matplotlib methods instead of `plt` functions as well:"
      ]
    },
    {
      "cell_type": "code",
      "metadata": {
        "scrolled": false,
        "id": "fLDG9mthMnYx",
        "colab_type": "code",
        "colab": {
          "base_uri": "https://localhost:8080/",
          "height": 1000
        },
        "outputId": "9572a5c9-5182-4849-eb80-9512c9806072"
      },
      "source": [
        "fig, axes = plt.subplots(nrows=10, ncols=3, figsize=(12, 40), tight_layout=True)\n",
        "bins = np.arange(1950, 2013, 3)\n",
        "for ax, genre in zip(axes.ravel(), genres_wanted):\n",
        "    ax.hist(data[data[genre] == True].year.values, bins=bins, histtype='stepfilled', normed=True, color='r', alpha=.2, ec='none')\n",
        "    ax.hist(data.year, bins=bins, histtype='stepfilled', ec='None', normed=True, zorder=0, color='#cccccc')\n",
        "    \n",
        "    ax.annotate(genre.split(':')[-1], xy=(1955, 3e-2), fontsize=14)\n",
        "    ax.xaxis.set_ticks(np.arange(1950, 2013, 30))"
      ],
      "execution_count": 36,
      "outputs": [
        {
          "output_type": "stream",
          "text": [
            "/usr/local/lib/python3.6/dist-packages/ipykernel_launcher.py:4: MatplotlibDeprecationWarning: \n",
            "The 'normed' kwarg was deprecated in Matplotlib 2.1 and will be removed in 3.1. Use 'density' instead.\n",
            "  after removing the cwd from sys.path.\n",
            "/usr/local/lib/python3.6/dist-packages/ipykernel_launcher.py:5: MatplotlibDeprecationWarning: \n",
            "The 'normed' kwarg was deprecated in Matplotlib 2.1 and will be removed in 3.1. Use 'density' instead.\n",
            "  \"\"\"\n"
          ],
          "name": "stderr"
        },
        {
          "output_type": "display_data",
          "data": {
            "image/png": "[encoded data removed]",
            "text/plain": [
              "<Figure size 864x2880 with 30 Axes>"
            ]
          },
          "metadata": {
            "tags": []
          }
        }
      ]
    },
    {
      "cell_type": "markdown",
      "metadata": {
        "id": "DOyOx6EcMnYy",
        "colab_type": "text"
      },
      "source": [
        "### Part 6.1: What can you conclude from the above visualizations?\n",
        "Interprete what is showed above. \n",
        "Pick two or three genres and describe how the popularity of these genres fluctuates with time.  "
      ]
    }
  ]
}