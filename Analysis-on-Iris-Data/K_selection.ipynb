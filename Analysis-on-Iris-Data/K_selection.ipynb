{
  "nbformat": 4,
  "nbformat_minor": 0,
  "metadata": {
    "colab": {
      "name": "K-selection.ipynb",
      "provenance": [],
      "collapsed_sections": [],
      "authorship_tag": "ABX9TyNZrD6Zp0puPHTaSEQICS/R",
      "include_colab_link": true
    },
    "kernelspec": {
      "name": "python3",
      "display_name": "Python 3"
    }
  },
  "cells": [
    {
      "cell_type": "markdown",
      "metadata": {
        "id": "view-in-github",
        "colab_type": "text"
      },
      "source": [
        "<a href=\"https://colab.research.google.com/github/Rajan-sust/ML/blob/master/Analysis-on-Iris-Data/K_selection.ipynb\" target=\"_parent\"><img src=\"https://colab.research.google.com/assets/colab-badge.svg\" alt=\"Open In Colab\"/></a>"
      ]
    },
    {
      "cell_type": "code",
      "metadata": {
        "id": "xQSrB0k09_Sz",
        "colab_type": "code",
        "colab": {}
      },
      "source": [
        "from sklearn.model_selection import cross_val_score\n",
        "from sklearn.neighbors import KNeighborsClassifier\n",
        "import pandas as pd"
      ],
      "execution_count": 0,
      "outputs": []
    },
    {
      "cell_type": "code",
      "metadata": {
        "id": "and9251D_LJK",
        "colab_type": "code",
        "colab": {}
      },
      "source": [
        "source = 'https://raw.githubusercontent.com/Rajan-sust/ML/master/Dataset/iris/trian-test.csv'\n",
        "columns_name = ['sepal-length', 'sepal-width', 'petal-length', 'petal-width', 'species']\n",
        "dataset = pd.read_csv(source, names = columns_name)"
      ],
      "execution_count": 0,
      "outputs": []
    },
    {
      "cell_type": "code",
      "metadata": {
        "id": "x7ynic1E_LU3",
        "colab_type": "code",
        "colab": {}
      },
      "source": [
        "X = dataset[['sepal-length', 'sepal-width', 'petal-length', 'petal-width']]\n",
        "y = dataset['species']"
      ],
      "execution_count": 0,
      "outputs": []
    },
    {
      "cell_type": "code",
      "metadata": {
        "id": "zbkuNspH-ndw",
        "colab_type": "code",
        "colab": {}
      },
      "source": [
        "def k_selection():\n",
        "  k_scores = dict()\n",
        "  for k in range(1, 30):\n",
        "    knn = KNeighborsClassifier(n_neighbors=k)\n",
        "    scores = cross_val_score(knn, X, y, cv=10, scoring='accuracy')\n",
        "    k_scores[k] = scores.mean()\n",
        "  mx = max(k_scores.values())\n",
        "  return [k for k, val in k_scores.items() if val == mx]"
      ],
      "execution_count": 0,
      "outputs": []
    },
    {
      "cell_type": "code",
      "metadata": {
        "id": "0FeEYBAMCEiX",
        "colab_type": "code",
        "colab": {
          "base_uri": "https://localhost:8080/",
          "height": 34
        },
        "outputId": "2a459adc-6d8e-4611-d3dc-0f4c2fdcb93c"
      },
      "source": [
        "k_selection()"
      ],
      "execution_count": 15,
      "outputs": [
        {
          "output_type": "execute_result",
          "data": {
            "text/plain": [
              "[8, 11, 13, 14, 15, 17, 18, 19, 21, 23, 25]"
            ]
          },
          "metadata": {
            "tags": []
          },
          "execution_count": 15
        }
      ]
    },
    {
      "cell_type": "code",
      "metadata": {
        "id": "ZtAXHFcMCKTF",
        "colab_type": "code",
        "colab": {}
      },
      "source": [
        "from sklearn.linear_model import LogisticRegression\n",
        "logreg = LogisticRegression()\n",
        "cross_val_score(logreg, X, y, cv=10, scoring='accuracy').mean()"
      ],
      "execution_count": 0,
      "outputs": []
    },
    {
      "cell_type": "code",
      "metadata": {
        "id": "0y_8L_1MDySy",
        "colab_type": "code",
        "colab": {}
      },
      "source": [
        ""
      ],
      "execution_count": 0,
      "outputs": []
    }
  ]
}