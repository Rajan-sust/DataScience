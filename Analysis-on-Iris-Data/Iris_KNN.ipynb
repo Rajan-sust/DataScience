{
  "nbformat": 4,
  "nbformat_minor": 0,
  "metadata": {
    "colab": {
      "name": "Iris-KNN.ipynb",
      "provenance": [],
      "collapsed_sections": [],
      "authorship_tag": "ABX9TyPGYXmPO+lO/h4bcD/rSTft",
      "include_colab_link": true
    },
    "kernelspec": {
      "name": "python3",
      "display_name": "Python 3"
    }
  },
  "cells": [
    {
      "cell_type": "markdown",
      "metadata": {
        "id": "view-in-github",
        "colab_type": "text"
      },
      "source": [
        "<a href=\"https://colab.research.google.com/github/Rajan-sust/ML/blob/master/Analysis-on-Iris-Data/Iris_KNN.ipynb\" target=\"_parent\"><img src=\"https://colab.research.google.com/assets/colab-badge.svg\" alt=\"Open In Colab\"/></a>"
      ]
    },
    {
      "cell_type": "code",
      "metadata": {
        "id": "RAlOblq_12tr",
        "colab_type": "code",
        "colab": {}
      },
      "source": [
        "from sklearn.neighbors import KNeighborsClassifier\n",
        "import pandas as pd\n",
        "from sklearn import metrics\n",
        "import numpy as np"
      ],
      "execution_count": 0,
      "outputs": []
    },
    {
      "cell_type": "code",
      "metadata": {
        "id": "wyKHS6In2Hzn",
        "colab_type": "code",
        "colab": {}
      },
      "source": [
        "train_source = 'https://raw.githubusercontent.com/Rajan-sust/ML/master/Dataset/iris/train.csv'\n",
        "test_source = 'https://raw.githubusercontent.com/Rajan-sust/ML/master/Dataset/iris/test.csv'"
      ],
      "execution_count": 0,
      "outputs": []
    },
    {
      "cell_type": "code",
      "metadata": {
        "id": "WGsjzkyWEBGC",
        "colab_type": "code",
        "colab": {}
      },
      "source": [
        "columns_name = ['sepal-length', 'sepal-width', 'petal-length', 'petal-width', 'species']"
      ],
      "execution_count": 0,
      "outputs": []
    },
    {
      "cell_type": "code",
      "metadata": {
        "id": "DEjZ5NoOEHAR",
        "colab_type": "code",
        "colab": {}
      },
      "source": [
        "train_data = pd.read_csv(train_source, names=columns_name)\n",
        "test_data = pd.read_csv(test_source, names=columns_name)"
      ],
      "execution_count": 0,
      "outputs": []
    },
    {
      "cell_type": "code",
      "metadata": {
        "id": "3ONQFHxn8Zhw",
        "colab_type": "code",
        "colab": {}
      },
      "source": [
        "y_train = train_data['species'].apply(lambda x: {'Iris-virginica' : 0, 'Iris-versicolor' : 1, 'Iris-setosa' : 2}[x])\n",
        "y_test = test_data['species'].apply(lambda x: {'Iris-virginica' : 0, 'Iris-versicolor' : 1, 'Iris-setosa' : 2}[x])"
      ],
      "execution_count": 0,
      "outputs": []
    },
    {
      "cell_type": "code",
      "metadata": {
        "id": "jyx_Q1FhCvjR",
        "colab_type": "code",
        "colab": {}
      },
      "source": [
        "X_train = train_data[['sepal-length', 'sepal-width', 'petal-length', 'petal-width']]\n",
        "X_test = test_data[['sepal-length', 'sepal-width', 'petal-length', 'petal-width']]"
      ],
      "execution_count": 0,
      "outputs": []
    },
    {
      "cell_type": "code",
      "metadata": {
        "id": "blDW0No2Fvl4",
        "colab_type": "code",
        "colab": {
          "base_uri": "https://localhost:8080/",
          "height": 34
        },
        "outputId": "3b49c7c3-c926-40f6-9e11-afd332c42f6e"
      },
      "source": [
        "X_test.shape"
      ],
      "execution_count": 84,
      "outputs": [
        {
          "output_type": "execute_result",
          "data": {
            "text/plain": [
              "(30, 4)"
            ]
          },
          "metadata": {
            "tags": []
          },
          "execution_count": 84
        }
      ]
    },
    {
      "cell_type": "code",
      "metadata": {
        "id": "kVGgyvHD91lc",
        "colab_type": "code",
        "colab": {}
      },
      "source": [
        "knn = KNeighborsClassifier(n_neighbors = 5)"
      ],
      "execution_count": 0,
      "outputs": []
    },
    {
      "cell_type": "code",
      "metadata": {
        "id": "EZxAYiZ4_CMG",
        "colab_type": "code",
        "colab": {
          "base_uri": "https://localhost:8080/",
          "height": 68
        },
        "outputId": "c92b3f26-95bc-4d35-8a77-f04b62a6b6f2"
      },
      "source": [
        "knn.fit(X_train, y_train)"
      ],
      "execution_count": 91,
      "outputs": [
        {
          "output_type": "execute_result",
          "data": {
            "text/plain": [
              "KNeighborsClassifier(algorithm='auto', leaf_size=30, metric='minkowski',\n",
              "                     metric_params=None, n_jobs=None, n_neighbors=5, p=2,\n",
              "                     weights='uniform')"
            ]
          },
          "metadata": {
            "tags": []
          },
          "execution_count": 91
        }
      ]
    },
    {
      "cell_type": "code",
      "metadata": {
        "id": "zU-uqeM7_k9w",
        "colab_type": "code",
        "colab": {}
      },
      "source": [
        "y_predict = knn.predict(X_test)"
      ],
      "execution_count": 0,
      "outputs": []
    },
    {
      "cell_type": "code",
      "metadata": {
        "id": "uebetDIMBZKS",
        "colab_type": "code",
        "colab": {
          "base_uri": "https://localhost:8080/",
          "height": 34
        },
        "outputId": "f69e02c7-a918-47af-a55f-2d3e440b670f"
      },
      "source": [
        "metrics.accuracy_score(y_true = y_test, y_pred = y_predict)"
      ],
      "execution_count": 93,
      "outputs": [
        {
          "output_type": "execute_result",
          "data": {
            "text/plain": [
              "0.9333333333333333"
            ]
          },
          "metadata": {
            "tags": []
          },
          "execution_count": 93
        }
      ]
    },
    {
      "cell_type": "markdown",
      "metadata": {
        "id": "loFNvNypG37p",
        "colab_type": "text"
      },
      "source": [
        "#References\n",
        "[1] https://towardsdatascience.com/knn-using-scikit-learn-c6bed765be75"
      ]
    }
  ]
}