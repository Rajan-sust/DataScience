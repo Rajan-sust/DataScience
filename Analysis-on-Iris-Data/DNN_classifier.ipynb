{
  "nbformat": 4,
  "nbformat_minor": 0,
  "metadata": {
    "colab": {
      "name": "DNN-classifier.ipynb",
      "provenance": [],
      "collapsed_sections": [],
      "authorship_tag": "ABX9TyOeq7w19ChwpN5QpyRbcJfh",
      "include_colab_link": true
    },
    "kernelspec": {
      "name": "python3",
      "display_name": "Python 3"
    }
  },
  "cells": [
    {
      "cell_type": "markdown",
      "metadata": {
        "id": "view-in-github",
        "colab_type": "text"
      },
      "source": [
        "<a href=\"https://colab.research.google.com/github/Rajan-sust/ML/blob/master/Analysis-on-Iris-Data/DNN_classifier.ipynb\" target=\"_parent\"><img src=\"https://colab.research.google.com/assets/colab-badge.svg\" alt=\"Open In Colab\"/></a>"
      ]
    },
    {
      "cell_type": "code",
      "metadata": {
        "id": "JxFR9UwuGgEX",
        "colab_type": "code",
        "colab": {}
      },
      "source": [
        "try:\n",
        "  %tensorflow_version 2.x\n",
        "except:\n",
        "  pass"
      ],
      "execution_count": 0,
      "outputs": []
    },
    {
      "cell_type": "code",
      "metadata": {
        "id": "fEBIPbHhGs0P",
        "colab_type": "code",
        "colab": {}
      },
      "source": [
        "from tensorflow.keras import Sequential\n",
        "from tensorflow.keras.layers import Dense, Dropout\n",
        "import pandas as pd\n",
        "from tensorflow.keras.utils import to_categorical"
      ],
      "execution_count": 0,
      "outputs": []
    },
    {
      "cell_type": "code",
      "metadata": {
        "id": "I99Z1tVXM_w_",
        "colab_type": "code",
        "colab": {}
      },
      "source": [
        "model = Sequential()\n",
        "# Add the first (input) layer (1000 nodes) with input shape 4 element vector (1D).\n",
        "model.add(Dense(1000, input_shape=(4,), activation='relu'))\n",
        "# Add the second (hidden) layer (500 nodes).\n",
        "model.add(Dense(500, activation='relu'))\n",
        "# Add the third (hidden) layer (300 nodes).\n",
        "model.add(Dense(300,activation='relu'))\n",
        "# Add dropout\n",
        "model.add(Dropout(0.2))\n",
        "# Add the (output) layer of 3 nodes, and set the activation function to a Softmax.\n",
        "model.add(Dense(3, activation='softmax'))\n",
        "# Use the Categorical Cross Entropy loss function for a Multi-Class Classifier.\n",
        "model.compile(loss='categorical_crossentropy', optimizer='adam', metrics=['accuracy'])"
      ],
      "execution_count": 0,
      "outputs": []
    },
    {
      "cell_type": "code",
      "metadata": {
        "id": "vm_aVeRKNEFG",
        "colab_type": "code",
        "colab": {
          "base_uri": "https://localhost:8080/",
          "height": 323
        },
        "outputId": "93865f6f-adf3-41aa-f619-010c8decc2d3"
      },
      "source": [
        "model.summary()"
      ],
      "execution_count": 30,
      "outputs": [
        {
          "output_type": "stream",
          "text": [
            "Model: \"sequential_2\"\n",
            "_________________________________________________________________\n",
            "Layer (type)                 Output Shape              Param #   \n",
            "=================================================================\n",
            "dense_7 (Dense)              (None, 1000)              5000      \n",
            "_________________________________________________________________\n",
            "dense_8 (Dense)              (None, 500)               500500    \n",
            "_________________________________________________________________\n",
            "dense_9 (Dense)              (None, 300)               150300    \n",
            "_________________________________________________________________\n",
            "dropout_1 (Dropout)          (None, 300)               0         \n",
            "_________________________________________________________________\n",
            "dense_10 (Dense)             (None, 3)                 903       \n",
            "=================================================================\n",
            "Total params: 656,703\n",
            "Trainable params: 656,703\n",
            "Non-trainable params: 0\n",
            "_________________________________________________________________\n"
          ],
          "name": "stdout"
        }
      ]
    },
    {
      "cell_type": "code",
      "metadata": {
        "id": "WkBsWfziOemo",
        "colab_type": "code",
        "colab": {}
      },
      "source": [
        "train_data_source = 'https://raw.githubusercontent.com/Rajan-sust/ML/master/Dataset/iris/trian-test.csv'\n",
        "data = pd.read_csv(train_data_source, names=['sepal-length', 'sepal-width', 'petal-length', 'petal-width', 'species'])"
      ],
      "execution_count": 0,
      "outputs": []
    },
    {
      "cell_type": "code",
      "metadata": {
        "id": "4wgG5PzdRcei",
        "colab_type": "code",
        "colab": {}
      },
      "source": [
        "X_train, y_train = data.iloc[:, 0:4].values, data['species']\n",
        "y_train = y_train.apply(lambda x: {'Iris-virginica' : 0, 'Iris-versicolor' : 1, 'Iris-setosa' : 2}[x])\n",
        "y_train = to_categorical(y_train.values, num_classes = 3)"
      ],
      "execution_count": 0,
      "outputs": []
    },
    {
      "cell_type": "code",
      "metadata": {
        "id": "dc6j0he3RqzQ",
        "colab_type": "code",
        "colab": {
          "base_uri": "https://localhost:8080/",
          "height": 1000
        },
        "outputId": "95178c73-5f0f-4dae-8ef4-a5bea8a726f6"
      },
      "source": [
        "model.fit(X_train, y_train, epochs=100, validation_split=0.1)"
      ],
      "execution_count": 46,
      "outputs": [
        {
          "output_type": "stream",
          "text": [
            "Train on 135 samples, validate on 15 samples\n",
            "Epoch 1/100\n",
            "135/135 [==============================] - 0s 405us/sample - loss: 0.0364 - accuracy: 0.9852 - val_loss: 0.2246 - val_accuracy: 0.8667\n",
            "Epoch 2/100\n",
            "135/135 [==============================] - 0s 393us/sample - loss: 0.0357 - accuracy: 0.9852 - val_loss: 0.2455 - val_accuracy: 0.9333\n",
            "Epoch 3/100\n",
            "135/135 [==============================] - 0s 365us/sample - loss: 0.1541 - accuracy: 0.9481 - val_loss: 0.1915 - val_accuracy: 0.8667\n",
            "Epoch 4/100\n",
            "135/135 [==============================] - 0s 376us/sample - loss: 0.0462 - accuracy: 0.9778 - val_loss: 0.1884 - val_accuracy: 0.8667\n",
            "Epoch 5/100\n",
            "135/135 [==============================] - 0s 362us/sample - loss: 0.0660 - accuracy: 0.9778 - val_loss: 0.1935 - val_accuracy: 0.9333\n",
            "Epoch 6/100\n",
            "135/135 [==============================] - 0s 358us/sample - loss: 0.0388 - accuracy: 0.9926 - val_loss: 0.4226 - val_accuracy: 0.8667\n",
            "Epoch 7/100\n",
            "135/135 [==============================] - 0s 395us/sample - loss: 0.0790 - accuracy: 0.9778 - val_loss: 0.1774 - val_accuracy: 0.9333\n",
            "Epoch 8/100\n",
            "135/135 [==============================] - 0s 361us/sample - loss: 0.0721 - accuracy: 0.9704 - val_loss: 0.1758 - val_accuracy: 0.9333\n",
            "Epoch 9/100\n",
            "135/135 [==============================] - 0s 374us/sample - loss: 0.0460 - accuracy: 0.9852 - val_loss: 0.2635 - val_accuracy: 0.9333\n",
            "Epoch 10/100\n",
            "135/135 [==============================] - 0s 390us/sample - loss: 0.0634 - accuracy: 0.9852 - val_loss: 0.2062 - val_accuracy: 0.9333\n",
            "Epoch 11/100\n",
            "135/135 [==============================] - 0s 372us/sample - loss: 0.0702 - accuracy: 0.9630 - val_loss: 0.2567 - val_accuracy: 0.9333\n",
            "Epoch 12/100\n",
            "135/135 [==============================] - 0s 389us/sample - loss: 0.0686 - accuracy: 0.9852 - val_loss: 0.1866 - val_accuracy: 0.8667\n",
            "Epoch 13/100\n",
            "135/135 [==============================] - 0s 387us/sample - loss: 0.0667 - accuracy: 0.9704 - val_loss: 0.1879 - val_accuracy: 0.8667\n",
            "Epoch 14/100\n",
            "135/135 [==============================] - 0s 382us/sample - loss: 0.0609 - accuracy: 0.9704 - val_loss: 0.2007 - val_accuracy: 0.8667\n",
            "Epoch 15/100\n",
            "135/135 [==============================] - 0s 342us/sample - loss: 0.0445 - accuracy: 0.9926 - val_loss: 0.2066 - val_accuracy: 0.9333\n",
            "Epoch 16/100\n",
            "135/135 [==============================] - 0s 364us/sample - loss: 0.0436 - accuracy: 0.9852 - val_loss: 0.2219 - val_accuracy: 0.8667\n",
            "Epoch 17/100\n",
            "135/135 [==============================] - 0s 347us/sample - loss: 0.0578 - accuracy: 0.9778 - val_loss: 0.1928 - val_accuracy: 0.9333\n",
            "Epoch 18/100\n",
            "135/135 [==============================] - 0s 373us/sample - loss: 0.0508 - accuracy: 0.9778 - val_loss: 0.2069 - val_accuracy: 0.9333\n",
            "Epoch 19/100\n",
            "135/135 [==============================] - 0s 370us/sample - loss: 0.0857 - accuracy: 0.9630 - val_loss: 0.1946 - val_accuracy: 0.9333\n",
            "Epoch 20/100\n",
            "135/135 [==============================] - 0s 369us/sample - loss: 0.0559 - accuracy: 0.9704 - val_loss: 0.2911 - val_accuracy: 0.9333\n",
            "Epoch 21/100\n",
            "135/135 [==============================] - 0s 431us/sample - loss: 0.0802 - accuracy: 0.9630 - val_loss: 0.2195 - val_accuracy: 0.9333\n",
            "Epoch 22/100\n",
            "135/135 [==============================] - 0s 410us/sample - loss: 0.0885 - accuracy: 0.9556 - val_loss: 0.1688 - val_accuracy: 0.8667\n",
            "Epoch 23/100\n",
            "135/135 [==============================] - 0s 365us/sample - loss: 0.0556 - accuracy: 0.9704 - val_loss: 0.2533 - val_accuracy: 0.9333\n",
            "Epoch 24/100\n",
            "135/135 [==============================] - 0s 331us/sample - loss: 0.0616 - accuracy: 0.9704 - val_loss: 0.2050 - val_accuracy: 0.9333\n",
            "Epoch 25/100\n",
            "135/135 [==============================] - 0s 351us/sample - loss: 0.0526 - accuracy: 0.9778 - val_loss: 0.2549 - val_accuracy: 0.9333\n",
            "Epoch 26/100\n",
            "135/135 [==============================] - 0s 342us/sample - loss: 0.0550 - accuracy: 0.9852 - val_loss: 0.1717 - val_accuracy: 0.9333\n",
            "Epoch 27/100\n",
            "135/135 [==============================] - 0s 353us/sample - loss: 0.0452 - accuracy: 0.9926 - val_loss: 0.2325 - val_accuracy: 0.9333\n",
            "Epoch 28/100\n",
            "135/135 [==============================] - 0s 345us/sample - loss: 0.0638 - accuracy: 0.9630 - val_loss: 0.1940 - val_accuracy: 0.9333\n",
            "Epoch 29/100\n",
            "135/135 [==============================] - 0s 364us/sample - loss: 0.0899 - accuracy: 0.9630 - val_loss: 0.1898 - val_accuracy: 0.9333\n",
            "Epoch 30/100\n",
            "135/135 [==============================] - 0s 398us/sample - loss: 0.0428 - accuracy: 0.9926 - val_loss: 0.4241 - val_accuracy: 0.8667\n",
            "Epoch 31/100\n",
            "135/135 [==============================] - 0s 390us/sample - loss: 0.0728 - accuracy: 0.9481 - val_loss: 0.2238 - val_accuracy: 0.9333\n",
            "Epoch 32/100\n",
            "135/135 [==============================] - 0s 365us/sample - loss: 0.0954 - accuracy: 0.9556 - val_loss: 0.1861 - val_accuracy: 0.8667\n",
            "Epoch 33/100\n",
            "135/135 [==============================] - 0s 360us/sample - loss: 0.1319 - accuracy: 0.9556 - val_loss: 0.1865 - val_accuracy: 0.8667\n",
            "Epoch 34/100\n",
            "135/135 [==============================] - 0s 386us/sample - loss: 0.0602 - accuracy: 0.9852 - val_loss: 0.1818 - val_accuracy: 0.9333\n",
            "Epoch 35/100\n",
            "135/135 [==============================] - 0s 355us/sample - loss: 0.0542 - accuracy: 0.9778 - val_loss: 0.2124 - val_accuracy: 0.9333\n",
            "Epoch 36/100\n",
            "135/135 [==============================] - 0s 372us/sample - loss: 0.0601 - accuracy: 0.9778 - val_loss: 0.1708 - val_accuracy: 0.9333\n",
            "Epoch 37/100\n",
            "135/135 [==============================] - 0s 383us/sample - loss: 0.0604 - accuracy: 0.9852 - val_loss: 0.1721 - val_accuracy: 0.9333\n",
            "Epoch 38/100\n",
            "135/135 [==============================] - 0s 395us/sample - loss: 0.0436 - accuracy: 0.9926 - val_loss: 0.1968 - val_accuracy: 0.8667\n",
            "Epoch 39/100\n",
            "135/135 [==============================] - 0s 388us/sample - loss: 0.0511 - accuracy: 0.9852 - val_loss: 0.2090 - val_accuracy: 0.8667\n",
            "Epoch 40/100\n",
            "135/135 [==============================] - 0s 378us/sample - loss: 0.0584 - accuracy: 0.9852 - val_loss: 0.1867 - val_accuracy: 0.8667\n",
            "Epoch 41/100\n",
            "135/135 [==============================] - 0s 371us/sample - loss: 0.0408 - accuracy: 0.9926 - val_loss: 0.1748 - val_accuracy: 0.9333\n",
            "Epoch 42/100\n",
            "135/135 [==============================] - 0s 353us/sample - loss: 0.0458 - accuracy: 0.9852 - val_loss: 0.1748 - val_accuracy: 0.8667\n",
            "Epoch 43/100\n",
            "135/135 [==============================] - 0s 378us/sample - loss: 0.0397 - accuracy: 0.9926 - val_loss: 0.2417 - val_accuracy: 0.8667\n",
            "Epoch 44/100\n",
            "135/135 [==============================] - 0s 371us/sample - loss: 0.0758 - accuracy: 0.9778 - val_loss: 0.1920 - val_accuracy: 0.9333\n",
            "Epoch 45/100\n",
            "135/135 [==============================] - 0s 364us/sample - loss: 0.0797 - accuracy: 0.9704 - val_loss: 0.2655 - val_accuracy: 0.9333\n",
            "Epoch 46/100\n",
            "135/135 [==============================] - 0s 374us/sample - loss: 0.0921 - accuracy: 0.9481 - val_loss: 0.3629 - val_accuracy: 0.8667\n",
            "Epoch 47/100\n",
            "135/135 [==============================] - 0s 364us/sample - loss: 0.0757 - accuracy: 0.9778 - val_loss: 0.1857 - val_accuracy: 0.9333\n",
            "Epoch 48/100\n",
            "135/135 [==============================] - 0s 355us/sample - loss: 0.0596 - accuracy: 0.9778 - val_loss: 0.1827 - val_accuracy: 0.9333\n",
            "Epoch 49/100\n",
            "135/135 [==============================] - 0s 371us/sample - loss: 0.0514 - accuracy: 0.9852 - val_loss: 0.2455 - val_accuracy: 0.9333\n",
            "Epoch 50/100\n",
            "135/135 [==============================] - 0s 380us/sample - loss: 0.0576 - accuracy: 0.9852 - val_loss: 0.1835 - val_accuracy: 0.9333\n",
            "Epoch 51/100\n",
            "135/135 [==============================] - 0s 392us/sample - loss: 0.0409 - accuracy: 0.9852 - val_loss: 0.1898 - val_accuracy: 0.8667\n",
            "Epoch 52/100\n",
            "135/135 [==============================] - 0s 359us/sample - loss: 0.0355 - accuracy: 0.9852 - val_loss: 0.1935 - val_accuracy: 0.8667\n",
            "Epoch 53/100\n",
            "135/135 [==============================] - 0s 359us/sample - loss: 0.0392 - accuracy: 0.9852 - val_loss: 0.1920 - val_accuracy: 0.8667\n",
            "Epoch 54/100\n",
            "135/135 [==============================] - 0s 368us/sample - loss: 0.0307 - accuracy: 0.9926 - val_loss: 0.1971 - val_accuracy: 0.8667\n",
            "Epoch 55/100\n",
            "135/135 [==============================] - 0s 370us/sample - loss: 0.0448 - accuracy: 0.9852 - val_loss: 0.1983 - val_accuracy: 0.8667\n",
            "Epoch 56/100\n",
            "135/135 [==============================] - 0s 354us/sample - loss: 0.0481 - accuracy: 0.9778 - val_loss: 0.1979 - val_accuracy: 0.9333\n",
            "Epoch 57/100\n",
            "135/135 [==============================] - 0s 382us/sample - loss: 0.0427 - accuracy: 0.9778 - val_loss: 0.2064 - val_accuracy: 0.8667\n",
            "Epoch 58/100\n",
            "135/135 [==============================] - 0s 353us/sample - loss: 0.0338 - accuracy: 0.9852 - val_loss: 0.1956 - val_accuracy: 0.9333\n",
            "Epoch 59/100\n",
            "135/135 [==============================] - 0s 365us/sample - loss: 0.0479 - accuracy: 0.9852 - val_loss: 0.2017 - val_accuracy: 0.8667\n",
            "Epoch 60/100\n",
            "135/135 [==============================] - 0s 363us/sample - loss: 0.0277 - accuracy: 0.9926 - val_loss: 0.2286 - val_accuracy: 0.8667\n",
            "Epoch 61/100\n",
            "135/135 [==============================] - 0s 390us/sample - loss: 0.0504 - accuracy: 0.9704 - val_loss: 0.2011 - val_accuracy: 0.9333\n",
            "Epoch 62/100\n",
            "135/135 [==============================] - 0s 360us/sample - loss: 0.0676 - accuracy: 0.9630 - val_loss: 0.1871 - val_accuracy: 0.8667\n",
            "Epoch 63/100\n",
            "135/135 [==============================] - 0s 373us/sample - loss: 0.0624 - accuracy: 0.9852 - val_loss: 0.2764 - val_accuracy: 0.9333\n",
            "Epoch 64/100\n",
            "135/135 [==============================] - 0s 353us/sample - loss: 0.0429 - accuracy: 0.9852 - val_loss: 0.1747 - val_accuracy: 0.9333\n",
            "Epoch 65/100\n",
            "135/135 [==============================] - 0s 380us/sample - loss: 0.0524 - accuracy: 0.9704 - val_loss: 0.1755 - val_accuracy: 0.9333\n",
            "Epoch 66/100\n",
            "135/135 [==============================] - 0s 368us/sample - loss: 0.0321 - accuracy: 0.9926 - val_loss: 0.2268 - val_accuracy: 0.9333\n",
            "Epoch 67/100\n",
            "135/135 [==============================] - 0s 353us/sample - loss: 0.0741 - accuracy: 0.9630 - val_loss: 0.1956 - val_accuracy: 0.9333\n",
            "Epoch 68/100\n",
            "135/135 [==============================] - 0s 396us/sample - loss: 0.0613 - accuracy: 0.9704 - val_loss: 0.1882 - val_accuracy: 0.9333\n",
            "Epoch 69/100\n",
            "135/135 [==============================] - 0s 398us/sample - loss: 0.0316 - accuracy: 0.9926 - val_loss: 0.2144 - val_accuracy: 0.8667\n",
            "Epoch 70/100\n",
            "135/135 [==============================] - 0s 356us/sample - loss: 0.0352 - accuracy: 0.9852 - val_loss: 0.1928 - val_accuracy: 0.8667\n",
            "Epoch 71/100\n",
            "135/135 [==============================] - 0s 364us/sample - loss: 0.0355 - accuracy: 0.9926 - val_loss: 0.1920 - val_accuracy: 0.8667\n",
            "Epoch 72/100\n",
            "135/135 [==============================] - 0s 382us/sample - loss: 0.0365 - accuracy: 0.9926 - val_loss: 0.2038 - val_accuracy: 0.8667\n",
            "Epoch 73/100\n",
            "135/135 [==============================] - 0s 375us/sample - loss: 0.0350 - accuracy: 0.9852 - val_loss: 0.2176 - val_accuracy: 0.8667\n",
            "Epoch 74/100\n",
            "135/135 [==============================] - 0s 357us/sample - loss: 0.0901 - accuracy: 0.9704 - val_loss: 0.1703 - val_accuracy: 0.8667\n",
            "Epoch 75/100\n",
            "135/135 [==============================] - 0s 359us/sample - loss: 0.0533 - accuracy: 0.9704 - val_loss: 0.1809 - val_accuracy: 0.9333\n",
            "Epoch 76/100\n",
            "135/135 [==============================] - 0s 382us/sample - loss: 0.0582 - accuracy: 0.9778 - val_loss: 0.1710 - val_accuracy: 0.8667\n",
            "Epoch 77/100\n",
            "135/135 [==============================] - 0s 393us/sample - loss: 0.0501 - accuracy: 0.9852 - val_loss: 0.1936 - val_accuracy: 0.8667\n",
            "Epoch 78/100\n",
            "135/135 [==============================] - 0s 373us/sample - loss: 0.0485 - accuracy: 0.9852 - val_loss: 0.1705 - val_accuracy: 0.8667\n",
            "Epoch 79/100\n",
            "135/135 [==============================] - 0s 377us/sample - loss: 0.0424 - accuracy: 0.9926 - val_loss: 0.1670 - val_accuracy: 0.9333\n",
            "Epoch 80/100\n",
            "135/135 [==============================] - 0s 426us/sample - loss: 0.0427 - accuracy: 0.9852 - val_loss: 0.1802 - val_accuracy: 0.8667\n",
            "Epoch 81/100\n",
            "135/135 [==============================] - 0s 372us/sample - loss: 0.0344 - accuracy: 0.9852 - val_loss: 0.2271 - val_accuracy: 0.8667\n",
            "Epoch 82/100\n",
            "135/135 [==============================] - 0s 360us/sample - loss: 0.0424 - accuracy: 0.9852 - val_loss: 0.2265 - val_accuracy: 0.8667\n",
            "Epoch 83/100\n",
            "135/135 [==============================] - 0s 371us/sample - loss: 0.0350 - accuracy: 0.9852 - val_loss: 0.2176 - val_accuracy: 0.8667\n",
            "Epoch 84/100\n",
            "135/135 [==============================] - 0s 380us/sample - loss: 0.0329 - accuracy: 0.9926 - val_loss: 0.3619 - val_accuracy: 0.9333\n",
            "Epoch 85/100\n",
            "135/135 [==============================] - 0s 358us/sample - loss: 0.0552 - accuracy: 0.9778 - val_loss: 0.2317 - val_accuracy: 0.9333\n",
            "Epoch 86/100\n",
            "135/135 [==============================] - 0s 357us/sample - loss: 0.0474 - accuracy: 0.9926 - val_loss: 0.2385 - val_accuracy: 0.8667\n",
            "Epoch 87/100\n",
            "135/135 [==============================] - 0s 369us/sample - loss: 0.0472 - accuracy: 0.9852 - val_loss: 0.1923 - val_accuracy: 0.8667\n",
            "Epoch 88/100\n",
            "135/135 [==============================] - 0s 382us/sample - loss: 0.0378 - accuracy: 0.9926 - val_loss: 0.2158 - val_accuracy: 0.8667\n",
            "Epoch 89/100\n",
            "135/135 [==============================] - 0s 353us/sample - loss: 0.0344 - accuracy: 0.9926 - val_loss: 0.2332 - val_accuracy: 0.8667\n",
            "Epoch 90/100\n",
            "135/135 [==============================] - 0s 386us/sample - loss: 0.0390 - accuracy: 0.9852 - val_loss: 0.2146 - val_accuracy: 0.8667\n",
            "Epoch 91/100\n",
            "135/135 [==============================] - 0s 413us/sample - loss: 0.0373 - accuracy: 0.9852 - val_loss: 0.1692 - val_accuracy: 0.9333\n",
            "Epoch 92/100\n",
            "135/135 [==============================] - 0s 376us/sample - loss: 0.0355 - accuracy: 0.9926 - val_loss: 0.1692 - val_accuracy: 0.8667\n",
            "Epoch 93/100\n",
            "135/135 [==============================] - 0s 355us/sample - loss: 0.0399 - accuracy: 0.9852 - val_loss: 0.2034 - val_accuracy: 0.8667\n",
            "Epoch 94/100\n",
            "135/135 [==============================] - 0s 383us/sample - loss: 0.0337 - accuracy: 0.9926 - val_loss: 0.1903 - val_accuracy: 0.8667\n",
            "Epoch 95/100\n",
            "135/135 [==============================] - 0s 351us/sample - loss: 0.0360 - accuracy: 0.9926 - val_loss: 0.2053 - val_accuracy: 0.8667\n",
            "Epoch 96/100\n",
            "135/135 [==============================] - 0s 370us/sample - loss: 0.0317 - accuracy: 0.9926 - val_loss: 0.2622 - val_accuracy: 0.8667\n",
            "Epoch 97/100\n",
            "135/135 [==============================] - 0s 444us/sample - loss: 0.0448 - accuracy: 0.9852 - val_loss: 0.2080 - val_accuracy: 0.8667\n",
            "Epoch 98/100\n",
            "135/135 [==============================] - 0s 437us/sample - loss: 0.0348 - accuracy: 0.9852 - val_loss: 0.2139 - val_accuracy: 0.8667\n",
            "Epoch 99/100\n",
            "135/135 [==============================] - 0s 364us/sample - loss: 0.0369 - accuracy: 0.9926 - val_loss: 0.2040 - val_accuracy: 0.8667\n",
            "Epoch 100/100\n",
            "135/135 [==============================] - 0s 455us/sample - loss: 0.0293 - accuracy: 0.9926 - val_loss: 0.2495 - val_accuracy: 0.9333\n"
          ],
          "name": "stdout"
        },
        {
          "output_type": "execute_result",
          "data": {
            "text/plain": [
              "<tensorflow.python.keras.callbacks.History at 0x7fb176ee8a58>"
            ]
          },
          "metadata": {
            "tags": []
          },
          "execution_count": 46
        }
      ]
    },
    {
      "cell_type": "code",
      "metadata": {
        "id": "6tJ842G-S9KL",
        "colab_type": "code",
        "colab": {
          "base_uri": "https://localhost:8080/",
          "height": 34
        },
        "outputId": "d11e1b8b-616a-4d06-a6c4-2d478371a0f7"
      },
      "source": [
        "model.predict([[5.2,3.4,1.4,0.2]])"
      ],
      "execution_count": 47,
      "outputs": [
        {
          "output_type": "execute_result",
          "data": {
            "text/plain": [
              "array([[2.1831151e-25, 3.8899285e-15, 1.0000000e+00]], dtype=float32)"
            ]
          },
          "metadata": {
            "tags": []
          },
          "execution_count": 47
        }
      ]
    }
  ]
}